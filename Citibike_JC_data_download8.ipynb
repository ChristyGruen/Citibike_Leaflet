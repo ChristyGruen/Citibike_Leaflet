{
 "cells": [
  {
   "attachments": {},
   "cell_type": "markdown",
   "metadata": {},
   "source": [
    "Citibike data for Tableau\n",
    "Module 18 Homework\n",
    "Chris Gruenhagen"
   ]
  },
  {
   "attachments": {},
   "cell_type": "markdown",
   "metadata": {},
   "source": [
    "Data Plan:\n",
    " - download JC-YYYYMM-citibike-tripdata.csv.zip files from 2015-09 to 2022-12\n",
    " - read csvs from 2015-09 to 2021-01 into one pandas DataFrame (csvs with dataformat1)\n",
    " - read csvs from 2021-02 into a second pandas DataFrame (csvs with dataformat2)\n",
    "\n",
    "Idea: loop\n",
    "    - create lists\n",
    "        * ldata1\n",
    "        * ldata2\n",
    "    - open csv into df\n",
    "    - if csv[0]header == 'Trip Duration', append to ldata1\n",
    "    - elif csv[0]header == 'Ride ID', append to ldata2\n",
    "    end loop\n",
    "    then loop through list1 and concatenate into bigdf1, loop through list2 and concatenate into bigdf2\n",
    "\n",
    "\n",
    "dataformat1\n",
    "    Trip Duration (seconds)\n",
    "    Start Time and Date\n",
    "    Stop Time and Date\n",
    "    Start Station Name\n",
    "    End Station Name\n",
    "    Station ID\n",
    "    Station Lat/Long\n",
    "    Bike ID\n",
    "    User Type (Customer = 24-hour pass or 3-day pass user; Subscriber = Annual Member)\n",
    "    Gender (Zero=unknown; 1=male; 2=female)\n",
    "    Year of Birth\n",
    "\n",
    "dataformat2\n",
    "    Ride ID\n",
    "    Rideable type\n",
    "    Started at\n",
    "    Ended at\n",
    "    Start station name\n",
    "    Start station ID\n",
    "    End station name\n",
    "    End station ID\n",
    "    Start latitude\n",
    "    Start longitude\n",
    "    End latitude\n",
    "    End Longitude\n",
    "    Member or casual ride\n"
   ]
  },
  {
   "attachments": {},
   "cell_type": "markdown",
   "metadata": {},
   "source": [
    "DOWNLOAD DATA\n",
    "references\n",
    "\n",
    "https://stackoverflow.com/questions/67284489/how-to-load-a-csv-file-from-zipped-folder-from-url-into-pandas-dataframe?noredirect=1&lq=1\n",
    "\n",
    "https://stackoverflow.com/questions/3461111/unzipping-files-in-python"
   ]
  },
  {
   "cell_type": "code",
   "execution_count": 1,
   "metadata": {},
   "outputs": [],
   "source": [
    "# Import dependencies\n",
    "import zipfile\n",
    "from urllib.request import urlopen\n",
    "import shutil\n",
    "import os\n",
    "import pandas as pd\n",
    "\n",
    "\n",
    "# Import dependencies\n",
    "from splinter import Browser\n",
    "from bs4 import BeautifulSoup as soup\n",
    "from webdriver_manager.chrome import ChromeDriverManager\n",
    "\n",
    "\n",
    "import matplotlib.pyplot as plt\n",
    "import matplotlib.dates as mdates\n",
    "from matplotlib import colors\n",
    "from matplotlib.ticker import PercentFormatter\n",
    "# import mplcursors\n",
    "import pandas as pd\n",
    "from datetime import datetime\n",
    "from datetime import timezone\n",
    "import numpy as np\n",
    "# import os\n",
    "\n",
    "import glob\n",
    "import time\n",
    "import requests\n",
    "import bs4"
   ]
  },
  {
   "cell_type": "code",
   "execution_count": 7,
   "metadata": {},
   "outputs": [],
   "source": [
    "#  # USED TO PULL DATA FROM WEBSITE - DO NOT NEED TO RERUN IF CSVs are in Resources directory\n",
    "# baseurl = 'https://s3.amazonaws.com/tripdata/'"
   ]
  },
  {
   "cell_type": "code",
   "execution_count": 8,
   "metadata": {},
   "outputs": [],
   "source": [
    "#  # USED TO PULL DATA FROM WEBSITE - DO NOT NEED TO RERUN IF CSVs are in Resources directory\n",
    "# indexurl = 'https://s3.amazonaws.com/tripdata/index.html'"
   ]
  },
  {
   "cell_type": "code",
   "execution_count": 9,
   "metadata": {},
   "outputs": [
    {
     "name": "stderr",
     "output_type": "stream",
     "text": [
      "[WDM] - Downloading: 100%|██████████| 6.78M/6.78M [00:29<00:00, 242kB/s]\n"
     ]
    }
   ],
   "source": [
    "#  # USED TO PULL DATA FROM WEBSITE - DO NOT NEED TO RERUN IF CSVs are in Resources directory\n",
    "# # this opens the test browser\n",
    "# executable_path = {'executable_path': ChromeDriverManager().install()}\n",
    "# browser = Browser('chrome', **executable_path, headless=False)\n"
   ]
  },
  {
   "cell_type": "code",
   "execution_count": 12,
   "metadata": {},
   "outputs": [
    {
     "name": "stdout",
     "output_type": "stream",
     "text": [
      "                                  Name               Date Modified       Size  \\\n",
      "0         201306-citibike-tripdata.zip  Apr 30th 2018, 08:18:55 am   16.79 MB   \n",
      "1  201307-201402-citibike-tripdata.zip  Jan 18th 2017, 04:23:25 pm  178.26 MB   \n",
      "\n",
      "       Type  \n",
      "0  ZIP file  \n",
      "1  ZIP file  \n",
      "207\n"
     ]
    }
   ],
   "source": [
    "#  # USED TO PULL DATA FROM WEBSITE - DO NOT NEED TO RERUN IF CSVs are in Resources directory\n",
    "# #scrape list of zip files from 'https://s3.amazonaws.com/tripdata/index.html'\n",
    "# browser.visit(indexurl)\n",
    "# time.sleep(6)\n",
    "# html = browser.html\n",
    "# tablelist = pd.read_html(html)\n",
    "# tabledffy = tablelist[0]\n",
    "# print(tabledffy.head(2))\n",
    "# print(len(tabledffy))"
   ]
  },
  {
   "cell_type": "code",
   "execution_count": 13,
   "metadata": {},
   "outputs": [
    {
     "name": "stdout",
     "output_type": "stream",
     "text": [
      "                                Name              Date Modified      Size  \\\n",
      "56  201801-citibike-tripdata.csv.zip  Sep 6th 2018, 01:44:00 pm  23.24 MB   \n",
      "57  201802-citibike-tripdata.csv.zip  Sep 6th 2018, 01:44:02 pm  27.45 MB   \n",
      "\n",
      "        Type  \n",
      "56  ZIP file  \n",
      "57  ZIP file  \n",
      "120\n"
     ]
    }
   ],
   "source": [
    "#  # USED TO PULL DATA FROM WEBSITE - DO NOT NEED TO RERUN IF CSVs are in Resources directory - pull years 2018-2022\n",
    "# tabledf = tabledffy.loc[(tabledffy[\"Name\"].str.contains('2018'))|(tabledffy[\"Name\"].str.contains('2019'))|(tabledffy[\"Name\"].str.contains('2020'))|(tabledffy[\"Name\"].str.contains('2021'))|(tabledffy[\"Name\"].str.contains('2022'))]\n",
    "# print(tabledf.head(2))\n",
    "# print(len(tabledf))"
   ]
  },
  {
   "cell_type": "code",
   "execution_count": 19,
   "metadata": {},
   "outputs": [
    {
     "name": "stdout",
     "output_type": "stream",
     "text": [
      "                                    Name              Date Modified    Size  \\\n",
      "145  JC-201801-citibike-tripdata.csv.zip  Sep 6th 2018, 01:44:38 pm  328 KB   \n",
      "146  JC-201802-citibike-tripdata.csv.zip  Sep 6th 2018, 01:44:38 pm  389 KB   \n",
      "\n",
      "         Type  \n",
      "145  ZIP file  \n",
      "146  ZIP file  \n"
     ]
    }
   ],
   "source": [
    "#  # USED TO PULL DATA FROM WEBSITE - DO NOT NEED TO RERUN IF CSVs are in Resources directory\n",
    "# # select subset of data from pandas dataframe where Name contains JC\n",
    "\n",
    "\n",
    "# JCzips = tabledf.loc[tabledf[\"Name\"].str.contains('JC')]\n",
    "# print(JCzips[0:2])"
   ]
  },
  {
   "cell_type": "code",
   "execution_count": 20,
   "metadata": {},
   "outputs": [
    {
     "name": "stdout",
     "output_type": "stream",
     "text": [
      "                                Name              Date Modified      Size  \\\n",
      "56  201801-citibike-tripdata.csv.zip  Sep 6th 2018, 01:44:00 pm  23.24 MB   \n",
      "57  201802-citibike-tripdata.csv.zip  Sep 6th 2018, 01:44:02 pm  27.45 MB   \n",
      "\n",
      "        Type  \n",
      "56  ZIP file  \n",
      "57  ZIP file  \n"
     ]
    }
   ],
   "source": [
    "#  # USED TO PULL DATA FROM WEBSITE - DO NOT NEED TO RERUN IF CSVs are in Resources directory\n",
    "# # select subset of data from pandas dataframe for NY data where name does NOT contain JC\n",
    "# NYzips = tabledf.loc[~tabledf[\"Name\"].str.contains('JC')]\n",
    "# print(NYzips[0:2])"
   ]
  },
  {
   "cell_type": "code",
   "execution_count": 21,
   "metadata": {},
   "outputs": [
    {
     "name": "stdout",
     "output_type": "stream",
     "text": [
      "60\n",
      "['JC-201801-citibike-tripdata.csv.zip', 'JC-201802-citibike-tripdata.csv.zip']\n"
     ]
    }
   ],
   "source": [
    "#  # USED TO PULL DATA FROM WEBSITE - DO NOT NEED TO RERUN IF CSVs are in Resources directory\n",
    "# # create list from pandas dataframe column JCzips.Name\n",
    "# lJCzips = JCzips.Name.values.tolist()\n",
    "# print(len(lJCzips))\n",
    "# print(lJCzips[0:2])\n"
   ]
  },
  {
   "cell_type": "code",
   "execution_count": 22,
   "metadata": {},
   "outputs": [
    {
     "name": "stdout",
     "output_type": "stream",
     "text": [
      "60\n",
      "['201801-citibike-tripdata.csv.zip', '201802-citibike-tripdata.csv.zip']\n"
     ]
    }
   ],
   "source": [
    "#  # USED TO PULL DATA FROM WEBSITE - DO NOT NEED TO RERUN IF CSVs are in Resources directory\n",
    "# # create list from pandas dataframe column NYzips.Name\n",
    "\n",
    "# lNYzips = NYzips.Name.values.tolist()\n",
    "# print(len(lNYzips))\n",
    "# print(lNYzips[0:2])\n",
    "\n"
   ]
  },
  {
   "cell_type": "code",
   "execution_count": 23,
   "metadata": {},
   "outputs": [
    {
     "name": "stdout",
     "output_type": "stream",
     "text": [
      "['JC-201801-citibike-tripdata.csv.zip', 'JC-201802-citibike-tripdata.csv.zip']\n",
      "['201801-citibike-tripdata.csv.zip', '201802-citibike-tripdata.csv.zip']\n"
     ]
    }
   ],
   "source": [
    "#  # USED TO PULL DATA FROM WEBSITE - DO NOT NEED TO RERUN IF CSVs are in Resources directory\n",
    "# # need to loop through list and replace blanks with a dash  DO NOT USE - WILL NOT CAPTURE 201708 zip file\n",
    "# lJCzips3 = []\n",
    "# lNYzips3 = []\n",
    "\n",
    "# for z in lJCzips:\n",
    "#     zz = z.replace(\" \",\"%20\")\n",
    "#     lJCzips3.append(zz)\n",
    "\n",
    "# print(lJCzips3[0:2])\n",
    "\n",
    "# for z in lNYzips:\n",
    "#     zz = z.replace(\" \",\"%20\")\n",
    "#     lNYzips3.append(zz)\n",
    "\n",
    "# print(lNYzips3[0:2])"
   ]
  },
  {
   "cell_type": "code",
   "execution_count": 24,
   "metadata": {},
   "outputs": [],
   "source": [
    "#  # USED TO PULL DATA FROM WEBSITE - DO NOT NEED TO RERUN IF CSVs are in Resources directory\n",
    "#  # extracting zipfile from URL - works for everything!\n",
    "\n",
    "# for JC3 in lJCzips3: \n",
    "#         try:\n",
    "#             with urlopen(baseurl+JC3) as response, open(JC3, 'wb') as out_file:\n",
    "#                 shutil.copyfileobj(response, out_file)\n",
    "#                 with zipfile.ZipFile(JC3) as zf:\n",
    "#                     zf.extractall('Resources')\n",
    "#             os.remove(JC3)\n",
    "#         except:\n",
    "#             print(f\"{JC3} not found\")\n",
    "\n",
    "\n",
    "# for NY3 in lNYzips3: \n",
    "#         try:\n",
    "#             with urlopen(baseurl+NY3) as response, open(NY3, 'wb') as out_file:\n",
    "#                 shutil.copyfileobj(response, out_file)\n",
    "#                 with zipfile.ZipFile(NY3) as zf:\n",
    "#                     zf.extractall('Resources')\n",
    "#             os.remove(NY3)\n",
    "#         except:\n",
    "#             print(f\"{NY3} not found\")"
   ]
  },
  {
   "cell_type": "code",
   "execution_count": 25,
   "metadata": {},
   "outputs": [],
   "source": [
    "#  # USED TO PULL DATA FROM WEBSITE - DO NOT NEED TO RERUN IF CSVs are in Resources directory\n",
    "# browser.quit()"
   ]
  },
  {
   "attachments": {},
   "cell_type": "markdown",
   "metadata": {},
   "source": [
    "deleted 2018 and 2018 CSVs to reduce file sizes"
   ]
  },
  {
   "cell_type": "code",
   "execution_count": 2,
   "metadata": {},
   "outputs": [
    {
     "name": "stdout",
     "output_type": "stream",
     "text": [
      "60\n",
      "60\n",
      "0\n"
     ]
    }
   ],
   "source": [
    "# get list of csvs from file\n",
    "allFiles = os.listdir(\"Resources\")    \n",
    "csvFiles = list(filter(lambda f: f.endswith('.csv'), allFiles))\n",
    "csvFiles\n",
    "csvFilesJC = [item for item in csvFiles if 'JC' in item]\n",
    "csvFilesNY = [item for item in csvFiles if \"JC\" not in item]\n",
    "print(len(csvFiles))\n",
    "print(len(csvFilesJC))\n",
    "print(len(csvFilesNY))"
   ]
  },
  {
   "cell_type": "code",
   "execution_count": 3,
   "metadata": {},
   "outputs": [],
   "source": [
    "def formatData(csvfile):\n",
    "\n",
    "    # loop through csv files and write to lists by data format\n",
    "    ldata1 = [] #list for dfs with data format 1\n",
    "    ldata2 = [] #list for dfs with data format 2\n",
    "    ldata3 = [] #list to catch unmatched dfs\n",
    "    for csv in csvfile:\n",
    "        caticorn = pd.read_csv(f'Resources/{csv}')\n",
    "        if caticorn.columns[0] == 'Trip Duration' or caticorn.columns[0] == 'tripduration':\n",
    "            ldata1.append(caticorn)\n",
    "        elif caticorn.columns[0] == 'ride_id':\n",
    "            ldata2.append(caticorn)\n",
    "        else:\n",
    "            ldata3.append(caticorn)\n",
    "\n",
    "    print(f'number of dfs with data format 1 = {len(ldata1)}')\n",
    "    print(f'number of dfs with data format 2 = {len(ldata2)}')\n",
    "    print(f'number of dfs with data format 3 = {len(ldata3)}')\n",
    "\n",
    "    \n",
    "    \n",
    "    #  SPINCH check number of columns in ldata1   TURNIP reference: check for changes in column names between dataframes for ldata1\n",
    "    def colCheck(ldata):\n",
    "        if (len(ldata)>=1):\n",
    "            lspinch = []\n",
    "            for spinch in ldata:\n",
    "                if len(spinch.columns) not in lspinch:\n",
    "                    lspinch.append(len(spinch.columns))\n",
    "\n",
    "            print(f' if all dfs have same number of columns this should equal one {len(lspinch)}')\n",
    "            print(f' The number of df columns is {lspinch[0]}')\n",
    "\n",
    "            # for ldata_n_cols in lspinch:\n",
    "            #     print(f'number of columns {ldata_n_cols}')\n",
    "\n",
    "            lturnip = []\n",
    "            for turnip in ldata:\n",
    "                for turnipseed in range(0,lspinch[0]):\n",
    "                    if turnip.columns[turnipseed] not in lturnip:\n",
    "                        lturnip.append(turnip.columns[turnipseed])\n",
    "\n",
    "            print(f'column headers for ldataList')   \n",
    "            for t in lturnip:\n",
    "                print (t)\n",
    "        else: print('no data in list')\n",
    "\n",
    "    colCheck(ldata1)\n",
    "    colCheck(ldata2)\n",
    "    colCheck(ldata3)\n",
    "\n",
    "    ldata1clean = []\n",
    "    values = ['<0','0-2min','2min-30min','30min-2hr','2hr-1day','>1day']\n",
    "    def ldata1CleanUp(ldata1):\n",
    "        ldata1_new_colnames = ['tripduration','started_at','ended_at', 'start_station_id','start_station_name','start_lat','start_lng','end_station_id','end_station_name','end_lat','end_lng','bikeid','member_casual','birthyear','gender']\n",
    "        for parsnip in ldata1:\n",
    "            parsnip.columns = ldata1_new_colnames\n",
    "            parsnip['ride_id'] = [f\"{parsnip['bikeid'][ele]} {parsnip['started_at'][ele]}\" for ele in parsnip.index]\n",
    "            parsnip['rideable_type'] = parsnip['bikeid']\n",
    "            parsnip['started_at'] = parsnip['started_at'].astype('datetime64')\n",
    "            parsnip['ended_at'] = parsnip['ended_at'].astype('datetime64')\n",
    "            parsnip['rideable_type'] = parsnip['rideable_type'].astype('str')\n",
    "            parsnip['start_station_id'] = parsnip['start_station_id'].astype('str')\n",
    "            parsnip['end_station_id'] = parsnip['end_station_id'].astype('str')  \n",
    "            parsnip['year'] = parsnip['started_at'].dt.year\n",
    "            parsnip['month'] = parsnip['started_at'].dt.month\n",
    "            parsnip['hour']= parsnip['started_at'].dt.hour\n",
    "            parsnip['tripduration(min)'] = round(parsnip['tripduration']/60,0)\n",
    "            conditions = [(parsnip['tripduration(min)']<0),(parsnip['tripduration(min)']>=0)&(parsnip['tripduration(min)']<2),(parsnip['tripduration(min)']>=2)&(parsnip['tripduration(min)']<30),(parsnip['tripduration(min)']>=30)&(parsnip['tripduration(min)']<120),(parsnip['tripduration(min)']>=120)&(parsnip['tripduration(min)']<1440),(parsnip['tripduration(min)']>=1440)]\n",
    "            parsnip['triplength'] = np.select(conditions,values)\n",
    "            parsnippy = parsnip[['ride_id','rideable_type','year','month','hour','started_at','ended_at','start_station_name','start_station_id','end_station_name','end_station_id','start_lat','start_lng','end_lat','end_lng','member_casual','tripduration','tripduration(min)','triplength']]\n",
    "            ldata1clean.append(parsnippy)\n",
    "        print('ldata1')\n",
    "        colCheck(ldata1clean)\n",
    "\n",
    "    ldata1CleanUp(ldata1)\n",
    "    \n",
    "    ldata2clean = []\n",
    "    def ldata2CleanUp(ldata2):\n",
    "        for parsnip2 in ldata2:\n",
    "            parsnip2['started_at'] = parsnip2['started_at'].astype('datetime64')\n",
    "            parsnip2['ended_at'] = parsnip2['ended_at'].astype('datetime64')\n",
    "            parsnip2['tripduration'] = [(parsnip2['ended_at'][row]-parsnip2['started_at'][row])/1000000000 for row in parsnip2.index]\n",
    "            parsnip2['tripduration'] = parsnip2['tripduration'].astype('int64')\n",
    "            parsnip2['year'] = pd.DatetimeIndex(parsnip2['started_at']).year\n",
    "            parsnip2['month'] = parsnip2['started_at'].dt.month\n",
    "            parsnip2['hour']= parsnip2['started_at'].dt.hour\n",
    "            parsnip2['tripduration(min)'] = round(parsnip2['tripduration']/60,0)\n",
    "            conditions = [(parsnip2['tripduration(min)']<0),(parsnip2['tripduration(min)']>=0)&(parsnip2['tripduration(min)']<2),(parsnip2['tripduration(min)']>=2)&(parsnip2['tripduration(min)']<30),(parsnip2['tripduration(min)']>=30)&(parsnip2['tripduration(min)']<120),(parsnip2['tripduration(min)']>=120)&(parsnip2['tripduration(min)']<1440),(parsnip2['tripduration(min)']>=1440)]\n",
    "            parsnip2['triplength'] = np.select(conditions,values)\n",
    "            parsnippy2 = parsnip2[['ride_id','rideable_type','year','month','hour','started_at','ended_at','start_station_name','start_station_id','end_station_name','end_station_id','start_lat','start_lng','end_lat','end_lng','member_casual','tripduration','tripduration(min)','triplength']]\n",
    "            ldata2clean.append(parsnippy2)\n",
    "        print('ldata2')\n",
    "        colCheck(ldata2clean)\n",
    "\n",
    "    ldata2CleanUp(ldata2)\n",
    "\n",
    "    joinedlist = ldata1clean + ldata2clean\n",
    "    len(joinedlist)\n",
    "    dfdataall = pd.concat(joinedlist)\n",
    "    len(dfdataall) \n",
    "\n",
    "    return dfdataall  \n",
    "\n",
    "\n"
   ]
  },
  {
   "cell_type": "code",
   "execution_count": 4,
   "metadata": {},
   "outputs": [
    {
     "name": "stdout",
     "output_type": "stream",
     "text": [
      "number of dfs with data format 1 = 37\n",
      "number of dfs with data format 2 = 23\n",
      "number of dfs with data format 3 = 0\n",
      " if all dfs have same number of columns this should equal one 1\n",
      " The number of df columns is 15\n",
      "column headers for ldataList\n",
      "tripduration\n",
      "starttime\n",
      "stoptime\n",
      "start station id\n",
      "start station name\n",
      "start station latitude\n",
      "start station longitude\n",
      "end station id\n",
      "end station name\n",
      "end station latitude\n",
      "end station longitude\n",
      "bikeid\n",
      "usertype\n",
      "birth year\n",
      "gender\n",
      " if all dfs have same number of columns this should equal one 1\n",
      " The number of df columns is 13\n",
      "column headers for ldataList\n",
      "ride_id\n",
      "rideable_type\n",
      "started_at\n",
      "ended_at\n",
      "start_station_name\n",
      "start_station_id\n",
      "end_station_name\n",
      "end_station_id\n",
      "start_lat\n",
      "start_lng\n",
      "end_lat\n",
      "end_lng\n",
      "member_casual\n",
      "no data in list\n",
      "ldata1\n",
      " if all dfs have same number of columns this should equal one 1\n",
      " The number of df columns is 19\n",
      "column headers for ldataList\n",
      "ride_id\n",
      "rideable_type\n",
      "year\n",
      "month\n",
      "hour\n",
      "started_at\n",
      "ended_at\n",
      "start_station_name\n",
      "start_station_id\n",
      "end_station_name\n",
      "end_station_id\n",
      "start_lat\n",
      "start_lng\n",
      "end_lat\n",
      "end_lng\n",
      "member_casual\n",
      "tripduration\n",
      "tripduration(min)\n",
      "triplength\n",
      "ldata2\n",
      " if all dfs have same number of columns this should equal one 1\n",
      " The number of df columns is 19\n",
      "column headers for ldataList\n",
      "ride_id\n",
      "rideable_type\n",
      "year\n",
      "month\n",
      "hour\n",
      "started_at\n",
      "ended_at\n",
      "start_station_name\n",
      "start_station_id\n",
      "end_station_name\n",
      "end_station_id\n",
      "start_lat\n",
      "start_lng\n",
      "end_lat\n",
      "end_lng\n",
      "member_casual\n",
      "tripduration\n",
      "tripduration(min)\n",
      "triplength\n"
     ]
    }
   ],
   "source": [
    "dfdataJCalls = formatData(csvFilesJC)\n",
    "\n"
   ]
  },
  {
   "cell_type": "code",
   "execution_count": null,
   "metadata": {},
   "outputs": [],
   "source": [
    "# don't run to save memory\n",
    "# dfdataJCalls_belowzero = dfdataJCalls[dfdataJCalls['tripduration(min)']<0]\n",
    "# print(len(dfdataJCalls_belowzero))\n",
    "# print(dfdataJCalls_belowzero.describe())\n",
    "# dfdataJCalls_belowzero"
   ]
  },
  {
   "cell_type": "code",
   "execution_count": 5,
   "metadata": {},
   "outputs": [
    {
     "name": "stdout",
     "output_type": "stream",
     "text": [
      "ride_id                  0\n",
      "rideable_type            0\n",
      "year                     0\n",
      "month                    0\n",
      "hour                     0\n",
      "started_at               0\n",
      "ended_at                 0\n",
      "start_station_name      10\n",
      "start_station_id        10\n",
      "end_station_name      6704\n",
      "end_station_id        6704\n",
      "start_lat                0\n",
      "start_lng                0\n",
      "end_lat               4202\n",
      "end_lng               4202\n",
      "member_casual            0\n",
      "tripduration             0\n",
      "tripduration(min)        0\n",
      "triplength               0\n",
      "dtype: int64\n"
     ]
    }
   ],
   "source": [
    "# print nan counts\n",
    "nan_count_of_dfdataJCalls = dfdataJCalls.isna().sum()\n",
    "print(nan_count_of_dfdataJCalls)"
   ]
  },
  {
   "cell_type": "code",
   "execution_count": 6,
   "metadata": {},
   "outputs": [
    {
     "name": "stdout",
     "output_type": "stream",
     "text": [
      "2635569\n"
     ]
    },
    {
     "data": {
      "text/html": [
       "<div>\n",
       "<style scoped>\n",
       "    .dataframe tbody tr th:only-of-type {\n",
       "        vertical-align: middle;\n",
       "    }\n",
       "\n",
       "    .dataframe tbody tr th {\n",
       "        vertical-align: top;\n",
       "    }\n",
       "\n",
       "    .dataframe thead th {\n",
       "        text-align: right;\n",
       "    }\n",
       "</style>\n",
       "<table border=\"1\" class=\"dataframe\">\n",
       "  <thead>\n",
       "    <tr style=\"text-align: right;\">\n",
       "      <th></th>\n",
       "      <th>ride_id</th>\n",
       "      <th>rideable_type</th>\n",
       "      <th>year</th>\n",
       "      <th>month</th>\n",
       "      <th>hour</th>\n",
       "      <th>started_at</th>\n",
       "      <th>ended_at</th>\n",
       "      <th>start_station_name</th>\n",
       "      <th>start_station_id</th>\n",
       "      <th>end_station_name</th>\n",
       "      <th>end_station_id</th>\n",
       "      <th>start_lat</th>\n",
       "      <th>start_lng</th>\n",
       "      <th>end_lat</th>\n",
       "      <th>end_lng</th>\n",
       "      <th>member_casual</th>\n",
       "      <th>tripduration</th>\n",
       "      <th>tripduration(min)</th>\n",
       "      <th>triplength</th>\n",
       "    </tr>\n",
       "  </thead>\n",
       "  <tbody>\n",
       "    <tr>\n",
       "      <th>0</th>\n",
       "      <td>31929 2018-01-01 02:06:17.5410</td>\n",
       "      <td>31929</td>\n",
       "      <td>2018</td>\n",
       "      <td>1</td>\n",
       "      <td>2</td>\n",
       "      <td>2018-01-01 02:06:17.541</td>\n",
       "      <td>2018-01-01 02:21:50.027</td>\n",
       "      <td>Exchange Place</td>\n",
       "      <td>3183</td>\n",
       "      <td>Newport Pkwy</td>\n",
       "      <td>3199</td>\n",
       "      <td>40.716247</td>\n",
       "      <td>-74.033459</td>\n",
       "      <td>40.728745</td>\n",
       "      <td>-74.032108</td>\n",
       "      <td>Subscriber</td>\n",
       "      <td>932</td>\n",
       "      <td>16.0</td>\n",
       "      <td>2min-30min</td>\n",
       "    </tr>\n",
       "    <tr>\n",
       "      <th>1</th>\n",
       "      <td>31845 2018-01-01 12:06:18.0390</td>\n",
       "      <td>31845</td>\n",
       "      <td>2018</td>\n",
       "      <td>1</td>\n",
       "      <td>12</td>\n",
       "      <td>2018-01-01 12:06:18.039</td>\n",
       "      <td>2018-01-01 12:15:28.443</td>\n",
       "      <td>Exchange Place</td>\n",
       "      <td>3183</td>\n",
       "      <td>Newport Pkwy</td>\n",
       "      <td>3199</td>\n",
       "      <td>40.716247</td>\n",
       "      <td>-74.033459</td>\n",
       "      <td>40.728745</td>\n",
       "      <td>-74.032108</td>\n",
       "      <td>Subscriber</td>\n",
       "      <td>550</td>\n",
       "      <td>9.0</td>\n",
       "      <td>2min-30min</td>\n",
       "    </tr>\n",
       "  </tbody>\n",
       "</table>\n",
       "</div>"
      ],
      "text/plain": [
       "                          ride_id rideable_type  year  month  hour  \\\n",
       "0  31929 2018-01-01 02:06:17.5410         31929  2018      1     2   \n",
       "1  31845 2018-01-01 12:06:18.0390         31845  2018      1    12   \n",
       "\n",
       "               started_at                ended_at start_station_name  \\\n",
       "0 2018-01-01 02:06:17.541 2018-01-01 02:21:50.027     Exchange Place   \n",
       "1 2018-01-01 12:06:18.039 2018-01-01 12:15:28.443     Exchange Place   \n",
       "\n",
       "  start_station_id end_station_name end_station_id  start_lat  start_lng  \\\n",
       "0             3183     Newport Pkwy           3199  40.716247 -74.033459   \n",
       "1             3183     Newport Pkwy           3199  40.716247 -74.033459   \n",
       "\n",
       "     end_lat    end_lng member_casual  tripduration  tripduration(min)  \\\n",
       "0  40.728745 -74.032108    Subscriber           932               16.0   \n",
       "1  40.728745 -74.032108    Subscriber           550                9.0   \n",
       "\n",
       "   triplength  \n",
       "0  2min-30min  \n",
       "1  2min-30min  "
      ]
     },
     "execution_count": 6,
     "metadata": {},
     "output_type": "execute_result"
    }
   ],
   "source": [
    "# print number of dfdataJCalls records and df.head\n",
    "print(len(dfdataJCalls))\n",
    "dfdataJCalls.head(2)"
   ]
  },
  {
   "cell_type": "code",
   "execution_count": 7,
   "metadata": {},
   "outputs": [
    {
     "name": "stdout",
     "output_type": "stream",
     "text": [
      "2610121\n"
     ]
    },
    {
     "data": {
      "text/html": [
       "<div>\n",
       "<style scoped>\n",
       "    .dataframe tbody tr th:only-of-type {\n",
       "        vertical-align: middle;\n",
       "    }\n",
       "\n",
       "    .dataframe tbody tr th {\n",
       "        vertical-align: top;\n",
       "    }\n",
       "\n",
       "    .dataframe thead th {\n",
       "        text-align: right;\n",
       "    }\n",
       "</style>\n",
       "<table border=\"1\" class=\"dataframe\">\n",
       "  <thead>\n",
       "    <tr style=\"text-align: right;\">\n",
       "      <th></th>\n",
       "      <th>ride_id</th>\n",
       "      <th>rideable_type</th>\n",
       "      <th>year</th>\n",
       "      <th>month</th>\n",
       "      <th>hour</th>\n",
       "      <th>started_at</th>\n",
       "      <th>ended_at</th>\n",
       "      <th>start_station_name</th>\n",
       "      <th>start_station_id</th>\n",
       "      <th>end_station_name</th>\n",
       "      <th>end_station_id</th>\n",
       "      <th>start_lat</th>\n",
       "      <th>start_lng</th>\n",
       "      <th>end_lat</th>\n",
       "      <th>end_lng</th>\n",
       "      <th>member_casual</th>\n",
       "      <th>tripduration</th>\n",
       "      <th>tripduration(min)</th>\n",
       "      <th>triplength</th>\n",
       "    </tr>\n",
       "  </thead>\n",
       "  <tbody>\n",
       "    <tr>\n",
       "      <th>0</th>\n",
       "      <td>31929 2018-01-01 02:06:17.5410</td>\n",
       "      <td>31929</td>\n",
       "      <td>2018</td>\n",
       "      <td>1</td>\n",
       "      <td>2</td>\n",
       "      <td>2018-01-01 02:06:17.541</td>\n",
       "      <td>2018-01-01 02:21:50.027</td>\n",
       "      <td>Exchange Place</td>\n",
       "      <td>3183</td>\n",
       "      <td>Newport Pkwy</td>\n",
       "      <td>3199</td>\n",
       "      <td>40.716247</td>\n",
       "      <td>-74.033459</td>\n",
       "      <td>40.728745</td>\n",
       "      <td>-74.032108</td>\n",
       "      <td>member</td>\n",
       "      <td>932</td>\n",
       "      <td>16.0</td>\n",
       "      <td>2min-30min</td>\n",
       "    </tr>\n",
       "    <tr>\n",
       "      <th>1</th>\n",
       "      <td>31845 2018-01-01 12:06:18.0390</td>\n",
       "      <td>31845</td>\n",
       "      <td>2018</td>\n",
       "      <td>1</td>\n",
       "      <td>12</td>\n",
       "      <td>2018-01-01 12:06:18.039</td>\n",
       "      <td>2018-01-01 12:15:28.443</td>\n",
       "      <td>Exchange Place</td>\n",
       "      <td>3183</td>\n",
       "      <td>Newport Pkwy</td>\n",
       "      <td>3199</td>\n",
       "      <td>40.716247</td>\n",
       "      <td>-74.033459</td>\n",
       "      <td>40.728745</td>\n",
       "      <td>-74.032108</td>\n",
       "      <td>member</td>\n",
       "      <td>550</td>\n",
       "      <td>9.0</td>\n",
       "      <td>2min-30min</td>\n",
       "    </tr>\n",
       "  </tbody>\n",
       "</table>\n",
       "</div>"
      ],
      "text/plain": [
       "                          ride_id rideable_type  year  month  hour  \\\n",
       "0  31929 2018-01-01 02:06:17.5410         31929  2018      1     2   \n",
       "1  31845 2018-01-01 12:06:18.0390         31845  2018      1    12   \n",
       "\n",
       "               started_at                ended_at start_station_name  \\\n",
       "0 2018-01-01 02:06:17.541 2018-01-01 02:21:50.027     Exchange Place   \n",
       "1 2018-01-01 12:06:18.039 2018-01-01 12:15:28.443     Exchange Place   \n",
       "\n",
       "  start_station_id end_station_name end_station_id  start_lat  start_lng  \\\n",
       "0             3183     Newport Pkwy           3199  40.716247 -74.033459   \n",
       "1             3183     Newport Pkwy           3199  40.716247 -74.033459   \n",
       "\n",
       "     end_lat    end_lng member_casual  tripduration  tripduration(min)  \\\n",
       "0  40.728745 -74.032108        member           932               16.0   \n",
       "1  40.728745 -74.032108        member           550                9.0   \n",
       "\n",
       "   triplength  \n",
       "0  2min-30min  \n",
       "1  2min-30min  "
      ]
     },
     "execution_count": 7,
     "metadata": {},
     "output_type": "execute_result"
    }
   ],
   "source": [
    "# dfdataJCalls_nonull = dfdataJCalls.dropna()  try to combine  to save memory\n",
    "dfdataJCally = dfdataJCalls.loc[(dfdataJCalls['tripduration(min)']>0) & (dfdataJCalls['tripduration(min)']<1440)].dropna()\n",
    "dfdataJCally['member_casual'] = dfdataJCally['member_casual'].replace('Subscriber','member')\n",
    "dfdataJCally['member_casual'] = dfdataJCally['member_casual'].replace('Customer','casual')\n",
    "print(len(dfdataJCally))\n",
    "dfdataJCally.head(2)"
   ]
  },
  {
   "cell_type": "code",
   "execution_count": 8,
   "metadata": {},
   "outputs": [
    {
     "name": "stdout",
     "output_type": "stream",
     "text": [
      "ride_id                       object\n",
      "rideable_type                 object\n",
      "year                           int64\n",
      "month                          int64\n",
      "hour                           int64\n",
      "started_at            datetime64[ns]\n",
      "ended_at              datetime64[ns]\n",
      "start_station_name            object\n",
      "start_station_id              object\n",
      "end_station_name              object\n",
      "end_station_id                object\n",
      "start_lat                    float64\n",
      "start_lng                    float64\n",
      "end_lat                      float64\n",
      "end_lng                      float64\n",
      "member_casual                 object\n",
      "tripduration                   int64\n",
      "tripduration(min)            float64\n",
      "triplength                    object\n",
      "dtype: object\n"
     ]
    },
    {
     "data": {
      "text/plain": [
       "pandas.core.frame.DataFrame"
      ]
     },
     "execution_count": 8,
     "metadata": {},
     "output_type": "execute_result"
    }
   ],
   "source": [
    "print(dfdataJCally.dtypes)\n",
    "type(dfdataJCally)\n"
   ]
  },
  {
   "cell_type": "code",
   "execution_count": 9,
   "metadata": {},
   "outputs": [
    {
     "name": "stderr",
     "output_type": "stream",
     "text": [
      "c:\\Users\\chris\\anaconda3\\envs\\PythonDataOne\\lib\\site-packages\\IPython\\core\\interactiveshell.py:3377: DtypeWarning: Columns (5,7) have mixed types.Specify dtype option on import or set low_memory=False.\n",
      "  if (await self.run_code(code, result,  async_=asy)):\n"
     ]
    },
    {
     "name": "stdout",
     "output_type": "stream",
     "text": [
      "number of dfs with data format 1 = 0\n",
      "number of dfs with data format 2 = 12\n",
      "number of dfs with data format 3 = 0\n",
      "no data in list\n",
      " if all dfs have same number of columns this should equal one 1\n",
      " The number of df columns is 13\n",
      "column headers for ldataList\n",
      "ride_id\n",
      "rideable_type\n",
      "started_at\n",
      "ended_at\n",
      "start_station_name\n",
      "start_station_id\n",
      "end_station_name\n",
      "end_station_id\n",
      "start_lat\n",
      "start_lng\n",
      "end_lat\n",
      "end_lng\n",
      "member_casual\n",
      "no data in list\n",
      "ldata1\n",
      "no data in list\n",
      "ldata2\n",
      " if all dfs have same number of columns this should equal one 1\n",
      " The number of df columns is 19\n",
      "column headers for ldataList\n",
      "ride_id\n",
      "rideable_type\n",
      "year\n",
      "month\n",
      "hour\n",
      "started_at\n",
      "ended_at\n",
      "start_station_name\n",
      "start_station_id\n",
      "end_station_name\n",
      "end_station_id\n",
      "start_lat\n",
      "start_lng\n",
      "end_lat\n",
      "end_lng\n",
      "member_casual\n",
      "tripduration\n",
      "tripduration(min)\n",
      "triplength\n"
     ]
    }
   ],
   "source": [
    "# dfdataNYalls = formatData(csvFilesNY)"
   ]
  },
  {
   "cell_type": "code",
   "execution_count": 10,
   "metadata": {},
   "outputs": [
    {
     "data": {
      "text/html": [
       "<div>\n",
       "<style scoped>\n",
       "    .dataframe tbody tr th:only-of-type {\n",
       "        vertical-align: middle;\n",
       "    }\n",
       "\n",
       "    .dataframe tbody tr th {\n",
       "        vertical-align: top;\n",
       "    }\n",
       "\n",
       "    .dataframe thead th {\n",
       "        text-align: right;\n",
       "    }\n",
       "</style>\n",
       "<table border=\"1\" class=\"dataframe\">\n",
       "  <thead>\n",
       "    <tr style=\"text-align: right;\">\n",
       "      <th></th>\n",
       "      <th>ride_id</th>\n",
       "      <th>rideable_type</th>\n",
       "      <th>year</th>\n",
       "      <th>month</th>\n",
       "      <th>hour</th>\n",
       "      <th>started_at</th>\n",
       "      <th>ended_at</th>\n",
       "      <th>start_station_name</th>\n",
       "      <th>start_station_id</th>\n",
       "      <th>end_station_name</th>\n",
       "      <th>end_station_id</th>\n",
       "      <th>start_lat</th>\n",
       "      <th>start_lng</th>\n",
       "      <th>end_lat</th>\n",
       "      <th>end_lng</th>\n",
       "      <th>member_casual</th>\n",
       "      <th>tripduration</th>\n",
       "      <th>tripduration(min)</th>\n",
       "      <th>triplength</th>\n",
       "    </tr>\n",
       "  </thead>\n",
       "  <tbody>\n",
       "    <tr>\n",
       "      <th>0</th>\n",
       "      <td>55262E4365A955A2</td>\n",
       "      <td>classic_bike</td>\n",
       "      <td>2022</td>\n",
       "      <td>1</td>\n",
       "      <td>8</td>\n",
       "      <td>2022-01-18 08:23:52</td>\n",
       "      <td>2022-01-18 08:28:18</td>\n",
       "      <td>Boerum Pl\\t&amp; Pacific St</td>\n",
       "      <td>4488.09</td>\n",
       "      <td>Clinton St &amp; Joralemon St</td>\n",
       "      <td>4605.04</td>\n",
       "      <td>40.688489</td>\n",
       "      <td>-73.991160</td>\n",
       "      <td>40.692395</td>\n",
       "      <td>-73.993379</td>\n",
       "      <td>member</td>\n",
       "      <td>266</td>\n",
       "      <td>4.0</td>\n",
       "      <td>2min-30min</td>\n",
       "    </tr>\n",
       "    <tr>\n",
       "      <th>1</th>\n",
       "      <td>D272F1B15D841EC0</td>\n",
       "      <td>classic_bike</td>\n",
       "      <td>2022</td>\n",
       "      <td>1</td>\n",
       "      <td>9</td>\n",
       "      <td>2022-01-21 09:03:22</td>\n",
       "      <td>2022-01-21 09:05:44</td>\n",
       "      <td>E 12 St &amp; Ave C</td>\n",
       "      <td>5616.08</td>\n",
       "      <td>E 10 St &amp; Avenue A</td>\n",
       "      <td>5659.05</td>\n",
       "      <td>40.727243</td>\n",
       "      <td>-73.976831</td>\n",
       "      <td>40.727408</td>\n",
       "      <td>-73.981420</td>\n",
       "      <td>member</td>\n",
       "      <td>142</td>\n",
       "      <td>2.0</td>\n",
       "      <td>2min-30min</td>\n",
       "    </tr>\n",
       "  </tbody>\n",
       "</table>\n",
       "</div>"
      ],
      "text/plain": [
       "            ride_id rideable_type  year  month  hour          started_at  \\\n",
       "0  55262E4365A955A2  classic_bike  2022      1     8 2022-01-18 08:23:52   \n",
       "1  D272F1B15D841EC0  classic_bike  2022      1     9 2022-01-21 09:03:22   \n",
       "\n",
       "             ended_at       start_station_name start_station_id  \\\n",
       "0 2022-01-18 08:28:18  Boerum Pl\\t& Pacific St          4488.09   \n",
       "1 2022-01-21 09:05:44          E 12 St & Ave C          5616.08   \n",
       "\n",
       "            end_station_name end_station_id  start_lat  start_lng    end_lat  \\\n",
       "0  Clinton St & Joralemon St        4605.04  40.688489 -73.991160  40.692395   \n",
       "1         E 10 St & Avenue A        5659.05  40.727243 -73.976831  40.727408   \n",
       "\n",
       "     end_lng member_casual  tripduration  tripduration(min)  triplength  \n",
       "0 -73.993379        member           266                4.0  2min-30min  \n",
       "1 -73.981420        member           142                2.0  2min-30min  "
      ]
     },
     "execution_count": 10,
     "metadata": {},
     "output_type": "execute_result"
    }
   ],
   "source": [
    "# dfdataNYalls.head(2)"
   ]
  },
  {
   "cell_type": "code",
   "execution_count": null,
   "metadata": {},
   "outputs": [],
   "source": [
    "# Don't run this to save memory\n",
    "# dfdataNYalls_belowzero = dfdataNYalls[dfdataNYalls['tripduration(min)']<0]\n",
    "# print(len(dfdataNYalls_belowzero))\n",
    "# print(dfdataNYalls_belowzero.describe())\n",
    "# dfdataNYalls_belowzero"
   ]
  },
  {
   "cell_type": "code",
   "execution_count": 11,
   "metadata": {},
   "outputs": [
    {
     "name": "stdout",
     "output_type": "stream",
     "text": [
      "ride_id                   0\n",
      "rideable_type             0\n",
      "year                      0\n",
      "month                     0\n",
      "hour                      0\n",
      "started_at                0\n",
      "ended_at                  0\n",
      "start_station_name       50\n",
      "start_station_id         50\n",
      "end_station_name      71773\n",
      "end_station_id        71773\n",
      "start_lat                 0\n",
      "start_lng                 0\n",
      "end_lat               37516\n",
      "end_lng               37516\n",
      "member_casual             0\n",
      "tripduration              0\n",
      "tripduration(min)         0\n",
      "triplength                0\n",
      "dtype: int64\n"
     ]
    }
   ],
   "source": [
    "# nan_count_of_dfdataNYalls = dfdataNYalls.isna().sum()\n",
    "# print(nan_count_of_dfdataNYalls)"
   ]
  },
  {
   "cell_type": "code",
   "execution_count": 12,
   "metadata": {},
   "outputs": [
    {
     "name": "stdout",
     "output_type": "stream",
     "text": [
      "30123590\n"
     ]
    },
    {
     "data": {
      "text/html": [
       "<div>\n",
       "<style scoped>\n",
       "    .dataframe tbody tr th:only-of-type {\n",
       "        vertical-align: middle;\n",
       "    }\n",
       "\n",
       "    .dataframe tbody tr th {\n",
       "        vertical-align: top;\n",
       "    }\n",
       "\n",
       "    .dataframe thead th {\n",
       "        text-align: right;\n",
       "    }\n",
       "</style>\n",
       "<table border=\"1\" class=\"dataframe\">\n",
       "  <thead>\n",
       "    <tr style=\"text-align: right;\">\n",
       "      <th></th>\n",
       "      <th>ride_id</th>\n",
       "      <th>rideable_type</th>\n",
       "      <th>year</th>\n",
       "      <th>month</th>\n",
       "      <th>hour</th>\n",
       "      <th>started_at</th>\n",
       "      <th>ended_at</th>\n",
       "      <th>start_station_name</th>\n",
       "      <th>start_station_id</th>\n",
       "      <th>end_station_name</th>\n",
       "      <th>end_station_id</th>\n",
       "      <th>start_lat</th>\n",
       "      <th>start_lng</th>\n",
       "      <th>end_lat</th>\n",
       "      <th>end_lng</th>\n",
       "      <th>member_casual</th>\n",
       "      <th>tripduration</th>\n",
       "      <th>tripduration(min)</th>\n",
       "      <th>triplength</th>\n",
       "    </tr>\n",
       "  </thead>\n",
       "  <tbody>\n",
       "    <tr>\n",
       "      <th>0</th>\n",
       "      <td>55262E4365A955A2</td>\n",
       "      <td>classic_bike</td>\n",
       "      <td>2022</td>\n",
       "      <td>1</td>\n",
       "      <td>8</td>\n",
       "      <td>2022-01-18 08:23:52</td>\n",
       "      <td>2022-01-18 08:28:18</td>\n",
       "      <td>Boerum Pl\\t&amp; Pacific St</td>\n",
       "      <td>4488.09</td>\n",
       "      <td>Clinton St &amp; Joralemon St</td>\n",
       "      <td>4605.04</td>\n",
       "      <td>40.688489</td>\n",
       "      <td>-73.991160</td>\n",
       "      <td>40.692395</td>\n",
       "      <td>-73.993379</td>\n",
       "      <td>member</td>\n",
       "      <td>266</td>\n",
       "      <td>4.0</td>\n",
       "      <td>2min-30min</td>\n",
       "    </tr>\n",
       "    <tr>\n",
       "      <th>1</th>\n",
       "      <td>D272F1B15D841EC0</td>\n",
       "      <td>classic_bike</td>\n",
       "      <td>2022</td>\n",
       "      <td>1</td>\n",
       "      <td>9</td>\n",
       "      <td>2022-01-21 09:03:22</td>\n",
       "      <td>2022-01-21 09:05:44</td>\n",
       "      <td>E 12 St &amp; Ave C</td>\n",
       "      <td>5616.08</td>\n",
       "      <td>E 10 St &amp; Avenue A</td>\n",
       "      <td>5659.05</td>\n",
       "      <td>40.727243</td>\n",
       "      <td>-73.976831</td>\n",
       "      <td>40.727408</td>\n",
       "      <td>-73.981420</td>\n",
       "      <td>member</td>\n",
       "      <td>142</td>\n",
       "      <td>2.0</td>\n",
       "      <td>2min-30min</td>\n",
       "    </tr>\n",
       "  </tbody>\n",
       "</table>\n",
       "</div>"
      ],
      "text/plain": [
       "            ride_id rideable_type  year  month  hour          started_at  \\\n",
       "0  55262E4365A955A2  classic_bike  2022      1     8 2022-01-18 08:23:52   \n",
       "1  D272F1B15D841EC0  classic_bike  2022      1     9 2022-01-21 09:03:22   \n",
       "\n",
       "             ended_at       start_station_name start_station_id  \\\n",
       "0 2022-01-18 08:28:18  Boerum Pl\\t& Pacific St          4488.09   \n",
       "1 2022-01-21 09:05:44          E 12 St & Ave C          5616.08   \n",
       "\n",
       "            end_station_name end_station_id  start_lat  start_lng    end_lat  \\\n",
       "0  Clinton St & Joralemon St        4605.04  40.688489 -73.991160  40.692395   \n",
       "1         E 10 St & Avenue A        5659.05  40.727243 -73.976831  40.727408   \n",
       "\n",
       "     end_lng member_casual  tripduration  tripduration(min)  triplength  \n",
       "0 -73.993379        member           266                4.0  2min-30min  \n",
       "1 -73.981420        member           142                2.0  2min-30min  "
      ]
     },
     "execution_count": 12,
     "metadata": {},
     "output_type": "execute_result"
    }
   ],
   "source": [
    "# # dfdataNYalls_nonull = dfdataNYalls.dropna()\n",
    "# dfdataNYally = dfdataNYalls.loc[(dfdataNYalls['tripduration(min)']>0) & (dfdataNYalls['tripduration(min)']<1440)].dropna()\n",
    "# dfdataNYally['member_casual'] = dfdataNYally['member_casual'].replace('Subscriber','member')\n",
    "# dfdataNYally['member_casual'] = dfdataNYally['member_casual'].replace('Customer','casual')\n",
    "# print(len(dfdataNYally))\n",
    "# dfdataNYally.head(2)\n"
   ]
  },
  {
   "cell_type": "code",
   "execution_count": 19,
   "metadata": {},
   "outputs": [],
   "source": [
    "# dfdataNYally.to_csv('Summary/NY_201801_202212_citibike_tripdata.csv')"
   ]
  },
  {
   "cell_type": "code",
   "execution_count": 13,
   "metadata": {},
   "outputs": [],
   "source": [
    "# dfdataally= pd.concat([dfdataJCally,dfdataNYally])"
   ]
  },
  {
   "cell_type": "code",
   "execution_count": 14,
   "metadata": {},
   "outputs": [
    {
     "name": "stdout",
     "output_type": "stream",
     "text": [
      "881624\n",
      "30123590\n",
      "31005214\n"
     ]
    }
   ],
   "source": [
    "# print(len(dfdataJCally))\n",
    "# print(len(dfdataNYally))\n",
    "# print(len(dfdataally))"
   ]
  },
  {
   "cell_type": "code",
   "execution_count": 15,
   "metadata": {},
   "outputs": [
    {
     "data": {
      "text/html": [
       "<div>\n",
       "<style scoped>\n",
       "    .dataframe tbody tr th:only-of-type {\n",
       "        vertical-align: middle;\n",
       "    }\n",
       "\n",
       "    .dataframe tbody tr th {\n",
       "        vertical-align: top;\n",
       "    }\n",
       "\n",
       "    .dataframe thead th {\n",
       "        text-align: right;\n",
       "    }\n",
       "</style>\n",
       "<table border=\"1\" class=\"dataframe\">\n",
       "  <thead>\n",
       "    <tr style=\"text-align: right;\">\n",
       "      <th></th>\n",
       "      <th>ride_id</th>\n",
       "      <th>rideable_type</th>\n",
       "      <th>year</th>\n",
       "      <th>month</th>\n",
       "      <th>hour</th>\n",
       "      <th>started_at</th>\n",
       "      <th>ended_at</th>\n",
       "      <th>start_station_name</th>\n",
       "      <th>start_station_id</th>\n",
       "      <th>end_station_name</th>\n",
       "      <th>end_station_id</th>\n",
       "      <th>start_lat</th>\n",
       "      <th>start_lng</th>\n",
       "      <th>end_lat</th>\n",
       "      <th>end_lng</th>\n",
       "      <th>member_casual</th>\n",
       "      <th>tripduration</th>\n",
       "      <th>tripduration(min)</th>\n",
       "      <th>triplength</th>\n",
       "    </tr>\n",
       "  </thead>\n",
       "  <tbody>\n",
       "    <tr>\n",
       "      <th>0</th>\n",
       "      <td>CA5837152804D4B5</td>\n",
       "      <td>electric_bike</td>\n",
       "      <td>2022</td>\n",
       "      <td>1</td>\n",
       "      <td>18</td>\n",
       "      <td>2022-01-26 18:50:39</td>\n",
       "      <td>2022-01-26 18:51:53</td>\n",
       "      <td>12 St &amp; Sinatra Dr N</td>\n",
       "      <td>HB201</td>\n",
       "      <td>12 St &amp; Sinatra Dr N</td>\n",
       "      <td>HB201</td>\n",
       "      <td>40.750604</td>\n",
       "      <td>-74.024020</td>\n",
       "      <td>40.750604</td>\n",
       "      <td>-74.024020</td>\n",
       "      <td>member</td>\n",
       "      <td>74</td>\n",
       "      <td>1.0</td>\n",
       "      <td>0-2min</td>\n",
       "    </tr>\n",
       "    <tr>\n",
       "      <th>1</th>\n",
       "      <td>BA06A5E45B6601D2</td>\n",
       "      <td>classic_bike</td>\n",
       "      <td>2022</td>\n",
       "      <td>1</td>\n",
       "      <td>13</td>\n",
       "      <td>2022-01-28 13:14:07</td>\n",
       "      <td>2022-01-28 13:20:23</td>\n",
       "      <td>Essex Light Rail</td>\n",
       "      <td>JC038</td>\n",
       "      <td>Essex Light Rail</td>\n",
       "      <td>JC038</td>\n",
       "      <td>40.712774</td>\n",
       "      <td>-74.036486</td>\n",
       "      <td>40.712774</td>\n",
       "      <td>-74.036486</td>\n",
       "      <td>member</td>\n",
       "      <td>376</td>\n",
       "      <td>6.0</td>\n",
       "      <td>2min-30min</td>\n",
       "    </tr>\n",
       "  </tbody>\n",
       "</table>\n",
       "</div>"
      ],
      "text/plain": [
       "            ride_id  rideable_type  year  month  hour          started_at  \\\n",
       "0  CA5837152804D4B5  electric_bike  2022      1    18 2022-01-26 18:50:39   \n",
       "1  BA06A5E45B6601D2   classic_bike  2022      1    13 2022-01-28 13:14:07   \n",
       "\n",
       "             ended_at    start_station_name start_station_id  \\\n",
       "0 2022-01-26 18:51:53  12 St & Sinatra Dr N            HB201   \n",
       "1 2022-01-28 13:20:23      Essex Light Rail            JC038   \n",
       "\n",
       "       end_station_name end_station_id  start_lat  start_lng    end_lat  \\\n",
       "0  12 St & Sinatra Dr N          HB201  40.750604 -74.024020  40.750604   \n",
       "1      Essex Light Rail          JC038  40.712774 -74.036486  40.712774   \n",
       "\n",
       "     end_lng member_casual  tripduration  tripduration(min)  triplength  \n",
       "0 -74.024020        member            74                1.0      0-2min  \n",
       "1 -74.036486        member           376                6.0  2min-30min  "
      ]
     },
     "execution_count": 15,
     "metadata": {},
     "output_type": "execute_result"
    }
   ],
   "source": [
    "# dfdataally.head(2)"
   ]
  },
  {
   "cell_type": "code",
   "execution_count": 16,
   "metadata": {},
   "outputs": [
    {
     "data": {
      "text/plain": [
       "ride_id                       object\n",
       "rideable_type                 object\n",
       "year                           int64\n",
       "month                          int64\n",
       "hour                           int64\n",
       "started_at            datetime64[ns]\n",
       "ended_at              datetime64[ns]\n",
       "start_station_name            object\n",
       "start_station_id              object\n",
       "end_station_name              object\n",
       "end_station_id                object\n",
       "start_lat                    float64\n",
       "start_lng                    float64\n",
       "end_lat                      float64\n",
       "end_lng                      float64\n",
       "member_casual                 object\n",
       "tripduration                   int64\n",
       "tripduration(min)            float64\n",
       "triplength                    object\n",
       "dtype: object"
      ]
     },
     "execution_count": 16,
     "metadata": {},
     "output_type": "execute_result"
    }
   ],
   "source": [
    "# dfdataally.dtypes"
   ]
  },
  {
   "cell_type": "code",
   "execution_count": 9,
   "metadata": {},
   "outputs": [],
   "source": [
    "dfdataally = dfdataJCally"
   ]
  },
  {
   "cell_type": "code",
   "execution_count": 10,
   "metadata": {},
   "outputs": [],
   "source": [
    "# merged csv is too large for github - save csv outside of local repository\n",
    "# dfdataally.to_csv('Summary/JCNY_202201_202212_citibike_tripdata.csv')\n",
    "dfdataally.to_csv('Summary/JC_2018_202212_citibike_tripdata.csv')"
   ]
  },
  {
   "cell_type": "code",
   "execution_count": 11,
   "metadata": {},
   "outputs": [
    {
     "data": {
      "text/html": [
       "<div>\n",
       "<style scoped>\n",
       "    .dataframe tbody tr th:only-of-type {\n",
       "        vertical-align: middle;\n",
       "    }\n",
       "\n",
       "    .dataframe tbody tr th {\n",
       "        vertical-align: top;\n",
       "    }\n",
       "\n",
       "    .dataframe thead th {\n",
       "        text-align: right;\n",
       "    }\n",
       "</style>\n",
       "<table border=\"1\" class=\"dataframe\">\n",
       "  <thead>\n",
       "    <tr style=\"text-align: right;\">\n",
       "      <th></th>\n",
       "      <th>start_station_name</th>\n",
       "      <th>start_lat_norm</th>\n",
       "    </tr>\n",
       "  </thead>\n",
       "  <tbody>\n",
       "    <tr>\n",
       "      <th>0</th>\n",
       "      <td>11 St &amp; Washington St</td>\n",
       "      <td>40.749985</td>\n",
       "    </tr>\n",
       "    <tr>\n",
       "      <th>1</th>\n",
       "      <td>12 St &amp; Sinatra Dr N</td>\n",
       "      <td>40.750604</td>\n",
       "    </tr>\n",
       "  </tbody>\n",
       "</table>\n",
       "</div>"
      ],
      "text/plain": [
       "      start_station_name  start_lat_norm\n",
       "0  11 St & Washington St       40.749985\n",
       "1   12 St & Sinatra Dr N       40.750604"
      ]
     },
     "execution_count": 11,
     "metadata": {},
     "output_type": "execute_result"
    }
   ],
   "source": [
    "# normalize start latitude by start station name\n",
    "df_start_lat_norm = dfdataally.groupby('start_station_name')['start_lat'].agg(pd.Series.mode).to_frame()\n",
    "df_start_lat_norm.reset_index(inplace=True)\n",
    "df_start_lat_norm.rename(columns={'start_lat':'start_lat_norm'},inplace=True)\n",
    "df_start_lat_norm.head(2)"
   ]
  },
  {
   "cell_type": "code",
   "execution_count": 12,
   "metadata": {},
   "outputs": [
    {
     "data": {
      "text/html": [
       "<div>\n",
       "<style scoped>\n",
       "    .dataframe tbody tr th:only-of-type {\n",
       "        vertical-align: middle;\n",
       "    }\n",
       "\n",
       "    .dataframe tbody tr th {\n",
       "        vertical-align: top;\n",
       "    }\n",
       "\n",
       "    .dataframe thead th {\n",
       "        text-align: right;\n",
       "    }\n",
       "</style>\n",
       "<table border=\"1\" class=\"dataframe\">\n",
       "  <thead>\n",
       "    <tr style=\"text-align: right;\">\n",
       "      <th></th>\n",
       "      <th>start_station_name</th>\n",
       "      <th>start_lng_norm</th>\n",
       "    </tr>\n",
       "  </thead>\n",
       "  <tbody>\n",
       "    <tr>\n",
       "      <th>0</th>\n",
       "      <td>11 St &amp; Washington St</td>\n",
       "      <td>-74.027150</td>\n",
       "    </tr>\n",
       "    <tr>\n",
       "      <th>1</th>\n",
       "      <td>12 St &amp; Sinatra Dr N</td>\n",
       "      <td>-74.024020</td>\n",
       "    </tr>\n",
       "    <tr>\n",
       "      <th>2</th>\n",
       "      <td>14 St Ferry - 14 St &amp; Shipyard Ln</td>\n",
       "      <td>-74.024353</td>\n",
       "    </tr>\n",
       "    <tr>\n",
       "      <th>3</th>\n",
       "      <td>2 St HBLR - 2 St &amp; Marshall St</td>\n",
       "      <td>-74.042434</td>\n",
       "    </tr>\n",
       "    <tr>\n",
       "      <th>4</th>\n",
       "      <td>4 St &amp; Grand St</td>\n",
       "      <td>-74.035111</td>\n",
       "    </tr>\n",
       "  </tbody>\n",
       "</table>\n",
       "</div>"
      ],
      "text/plain": [
       "                  start_station_name  start_lng_norm\n",
       "0              11 St & Washington St      -74.027150\n",
       "1               12 St & Sinatra Dr N      -74.024020\n",
       "2  14 St Ferry - 14 St & Shipyard Ln      -74.024353\n",
       "3     2 St HBLR - 2 St & Marshall St      -74.042434\n",
       "4                    4 St & Grand St      -74.035111"
      ]
     },
     "execution_count": 12,
     "metadata": {},
     "output_type": "execute_result"
    }
   ],
   "source": [
    "# normalize start longitude by start station name\n",
    "df_start_lng_norm = dfdataally.groupby('start_station_name')['start_lng'].agg(pd.Series.mode).to_frame()\n",
    "df_start_lng_norm.reset_index(inplace=True)\n",
    "df_start_lng_norm.rename(columns={'start_lng':'start_lng_norm'},inplace=True)\n",
    "df_start_lng_norm.head()"
   ]
  },
  {
   "cell_type": "code",
   "execution_count": 13,
   "metadata": {},
   "outputs": [
    {
     "data": {
      "text/html": [
       "<div>\n",
       "<style scoped>\n",
       "    .dataframe tbody tr th:only-of-type {\n",
       "        vertical-align: middle;\n",
       "    }\n",
       "\n",
       "    .dataframe tbody tr th {\n",
       "        vertical-align: top;\n",
       "    }\n",
       "\n",
       "    .dataframe thead th {\n",
       "        text-align: right;\n",
       "    }\n",
       "</style>\n",
       "<table border=\"1\" class=\"dataframe\">\n",
       "  <thead>\n",
       "    <tr style=\"text-align: right;\">\n",
       "      <th></th>\n",
       "      <th>start_station_name</th>\n",
       "      <th>start_lat_norm</th>\n",
       "      <th>start_lng_norm</th>\n",
       "    </tr>\n",
       "  </thead>\n",
       "  <tbody>\n",
       "    <tr>\n",
       "      <th>0</th>\n",
       "      <td>11 St &amp; Washington St</td>\n",
       "      <td>40.749985</td>\n",
       "      <td>-74.027150</td>\n",
       "    </tr>\n",
       "    <tr>\n",
       "      <th>1</th>\n",
       "      <td>12 St &amp; Sinatra Dr N</td>\n",
       "      <td>40.750604</td>\n",
       "      <td>-74.024020</td>\n",
       "    </tr>\n",
       "    <tr>\n",
       "      <th>2</th>\n",
       "      <td>14 St Ferry - 14 St &amp; Shipyard Ln</td>\n",
       "      <td>40.752961</td>\n",
       "      <td>-74.024353</td>\n",
       "    </tr>\n",
       "    <tr>\n",
       "      <th>3</th>\n",
       "      <td>2 St HBLR - 2 St &amp; Marshall St</td>\n",
       "      <td>40.740801</td>\n",
       "      <td>-74.042434</td>\n",
       "    </tr>\n",
       "    <tr>\n",
       "      <th>4</th>\n",
       "      <td>4 St &amp; Grand St</td>\n",
       "      <td>40.742258</td>\n",
       "      <td>-74.035111</td>\n",
       "    </tr>\n",
       "  </tbody>\n",
       "</table>\n",
       "</div>"
      ],
      "text/plain": [
       "                  start_station_name  start_lat_norm  start_lng_norm\n",
       "0              11 St & Washington St       40.749985      -74.027150\n",
       "1               12 St & Sinatra Dr N       40.750604      -74.024020\n",
       "2  14 St Ferry - 14 St & Shipyard Ln       40.752961      -74.024353\n",
       "3     2 St HBLR - 2 St & Marshall St       40.740801      -74.042434\n",
       "4                    4 St & Grand St       40.742258      -74.035111"
      ]
     },
     "execution_count": 13,
     "metadata": {},
     "output_type": "execute_result"
    }
   ],
   "source": [
    "normll = pd.merge(df_start_lat_norm,df_start_lng_norm, how='outer', on='start_station_name' )\n",
    "normll.head()"
   ]
  },
  {
   "cell_type": "code",
   "execution_count": 14,
   "metadata": {},
   "outputs": [
    {
     "data": {
      "text/html": [
       "<div>\n",
       "<style scoped>\n",
       "    .dataframe tbody tr th:only-of-type {\n",
       "        vertical-align: middle;\n",
       "    }\n",
       "\n",
       "    .dataframe tbody tr th {\n",
       "        vertical-align: top;\n",
       "    }\n",
       "\n",
       "    .dataframe thead th {\n",
       "        text-align: right;\n",
       "    }\n",
       "</style>\n",
       "<table border=\"1\" class=\"dataframe\">\n",
       "  <thead>\n",
       "    <tr style=\"text-align: right;\">\n",
       "      <th></th>\n",
       "      <th>ride_id</th>\n",
       "      <th>rideable_type</th>\n",
       "      <th>year</th>\n",
       "      <th>month</th>\n",
       "      <th>hour</th>\n",
       "      <th>started_at</th>\n",
       "      <th>ended_at</th>\n",
       "      <th>start_station_name</th>\n",
       "      <th>start_station_id</th>\n",
       "      <th>end_station_name</th>\n",
       "      <th>...</th>\n",
       "      <th>start_lat</th>\n",
       "      <th>start_lng</th>\n",
       "      <th>end_lat</th>\n",
       "      <th>end_lng</th>\n",
       "      <th>member_casual</th>\n",
       "      <th>tripduration</th>\n",
       "      <th>tripduration(min)</th>\n",
       "      <th>triplength</th>\n",
       "      <th>start_lat_norm</th>\n",
       "      <th>start_lng_norm</th>\n",
       "    </tr>\n",
       "  </thead>\n",
       "  <tbody>\n",
       "    <tr>\n",
       "      <th>0</th>\n",
       "      <td>31929 2018-01-01 02:06:17.5410</td>\n",
       "      <td>31929</td>\n",
       "      <td>2018</td>\n",
       "      <td>1</td>\n",
       "      <td>2</td>\n",
       "      <td>2018-01-01 02:06:17.541</td>\n",
       "      <td>2018-01-01 02:21:50.027</td>\n",
       "      <td>Exchange Place</td>\n",
       "      <td>3183</td>\n",
       "      <td>Newport Pkwy</td>\n",
       "      <td>...</td>\n",
       "      <td>40.716247</td>\n",
       "      <td>-74.033459</td>\n",
       "      <td>40.728745</td>\n",
       "      <td>-74.032108</td>\n",
       "      <td>member</td>\n",
       "      <td>932</td>\n",
       "      <td>16.0</td>\n",
       "      <td>2min-30min</td>\n",
       "      <td>40.716247</td>\n",
       "      <td>-74.033459</td>\n",
       "    </tr>\n",
       "    <tr>\n",
       "      <th>1</th>\n",
       "      <td>31845 2018-01-01 12:06:18.0390</td>\n",
       "      <td>31845</td>\n",
       "      <td>2018</td>\n",
       "      <td>1</td>\n",
       "      <td>12</td>\n",
       "      <td>2018-01-01 12:06:18.039</td>\n",
       "      <td>2018-01-01 12:15:28.443</td>\n",
       "      <td>Exchange Place</td>\n",
       "      <td>3183</td>\n",
       "      <td>Newport Pkwy</td>\n",
       "      <td>...</td>\n",
       "      <td>40.716247</td>\n",
       "      <td>-74.033459</td>\n",
       "      <td>40.728745</td>\n",
       "      <td>-74.032108</td>\n",
       "      <td>member</td>\n",
       "      <td>550</td>\n",
       "      <td>9.0</td>\n",
       "      <td>2min-30min</td>\n",
       "      <td>40.716247</td>\n",
       "      <td>-74.033459</td>\n",
       "    </tr>\n",
       "  </tbody>\n",
       "</table>\n",
       "<p>2 rows × 21 columns</p>\n",
       "</div>"
      ],
      "text/plain": [
       "                          ride_id rideable_type  year  month  hour  \\\n",
       "0  31929 2018-01-01 02:06:17.5410         31929  2018      1     2   \n",
       "1  31845 2018-01-01 12:06:18.0390         31845  2018      1    12   \n",
       "\n",
       "               started_at                ended_at start_station_name  \\\n",
       "0 2018-01-01 02:06:17.541 2018-01-01 02:21:50.027     Exchange Place   \n",
       "1 2018-01-01 12:06:18.039 2018-01-01 12:15:28.443     Exchange Place   \n",
       "\n",
       "  start_station_id end_station_name  ...  start_lat  start_lng    end_lat  \\\n",
       "0             3183     Newport Pkwy  ...  40.716247 -74.033459  40.728745   \n",
       "1             3183     Newport Pkwy  ...  40.716247 -74.033459  40.728745   \n",
       "\n",
       "     end_lng  member_casual tripduration  tripduration(min)  triplength  \\\n",
       "0 -74.032108         member          932               16.0  2min-30min   \n",
       "1 -74.032108         member          550                9.0  2min-30min   \n",
       "\n",
       "  start_lat_norm  start_lng_norm  \n",
       "0      40.716247      -74.033459  \n",
       "1      40.716247      -74.033459  \n",
       "\n",
       "[2 rows x 21 columns]"
      ]
     },
     "execution_count": 14,
     "metadata": {},
     "output_type": "execute_result"
    }
   ],
   "source": [
    "# add norm lat/long in MegaCSVpolishing nb\n",
    "dfy = pd.merge(dfdataally, normll, how='outer', on='start_station_name')\n",
    "dfy.head(2)"
   ]
  },
  {
   "cell_type": "code",
   "execution_count": 15,
   "metadata": {},
   "outputs": [],
   "source": [
    "# merged csv is too large for github - save csv outside of local repository\n",
    "# dfy.to_csv('Summary/JCNYnorm_202201_202212_citibike_tripdata.csv')\n",
    "dfy.to_csv('Summary/JCnorm_201801_202212_citibike_tripdata.csv')"
   ]
  },
  {
   "cell_type": "code",
   "execution_count": 16,
   "metadata": {},
   "outputs": [
    {
     "name": "stdout",
     "output_type": "stream",
     "text": [
      "2610121\n"
     ]
    },
    {
     "data": {
      "text/html": [
       "<div>\n",
       "<style scoped>\n",
       "    .dataframe tbody tr th:only-of-type {\n",
       "        vertical-align: middle;\n",
       "    }\n",
       "\n",
       "    .dataframe tbody tr th {\n",
       "        vertical-align: top;\n",
       "    }\n",
       "\n",
       "    .dataframe thead th {\n",
       "        text-align: right;\n",
       "    }\n",
       "</style>\n",
       "<table border=\"1\" class=\"dataframe\">\n",
       "  <thead>\n",
       "    <tr style=\"text-align: right;\">\n",
       "      <th></th>\n",
       "      <th>ride_id</th>\n",
       "      <th>rideable_type</th>\n",
       "      <th>year</th>\n",
       "      <th>month</th>\n",
       "      <th>hour</th>\n",
       "      <th>started_at</th>\n",
       "      <th>ended_at</th>\n",
       "      <th>start_station_name</th>\n",
       "      <th>start_station_id</th>\n",
       "      <th>end_station_name</th>\n",
       "      <th>...</th>\n",
       "      <th>start_lat</th>\n",
       "      <th>start_lng</th>\n",
       "      <th>end_lat</th>\n",
       "      <th>end_lng</th>\n",
       "      <th>member_casual</th>\n",
       "      <th>tripduration</th>\n",
       "      <th>tripduration(min)</th>\n",
       "      <th>triplength</th>\n",
       "      <th>start_lat_norm</th>\n",
       "      <th>start_lng_norm</th>\n",
       "    </tr>\n",
       "  </thead>\n",
       "  <tbody>\n",
       "    <tr>\n",
       "      <th>0</th>\n",
       "      <td>31929 2018-01-01 02:06:17.5410</td>\n",
       "      <td>31929</td>\n",
       "      <td>2018</td>\n",
       "      <td>1</td>\n",
       "      <td>2</td>\n",
       "      <td>2018-01-01 02:06:17.541</td>\n",
       "      <td>2018-01-01 02:21:50.027</td>\n",
       "      <td>Exchange Place</td>\n",
       "      <td>3183</td>\n",
       "      <td>Newport Pkwy</td>\n",
       "      <td>...</td>\n",
       "      <td>40.716247</td>\n",
       "      <td>-74.033459</td>\n",
       "      <td>40.728745</td>\n",
       "      <td>-74.032108</td>\n",
       "      <td>member</td>\n",
       "      <td>932</td>\n",
       "      <td>16.0</td>\n",
       "      <td>2min-30min</td>\n",
       "      <td>40.716247</td>\n",
       "      <td>-74.033459</td>\n",
       "    </tr>\n",
       "    <tr>\n",
       "      <th>1</th>\n",
       "      <td>31845 2018-01-01 12:06:18.0390</td>\n",
       "      <td>31845</td>\n",
       "      <td>2018</td>\n",
       "      <td>1</td>\n",
       "      <td>12</td>\n",
       "      <td>2018-01-01 12:06:18.039</td>\n",
       "      <td>2018-01-01 12:15:28.443</td>\n",
       "      <td>Exchange Place</td>\n",
       "      <td>3183</td>\n",
       "      <td>Newport Pkwy</td>\n",
       "      <td>...</td>\n",
       "      <td>40.716247</td>\n",
       "      <td>-74.033459</td>\n",
       "      <td>40.728745</td>\n",
       "      <td>-74.032108</td>\n",
       "      <td>member</td>\n",
       "      <td>550</td>\n",
       "      <td>9.0</td>\n",
       "      <td>2min-30min</td>\n",
       "      <td>40.716247</td>\n",
       "      <td>-74.033459</td>\n",
       "    </tr>\n",
       "  </tbody>\n",
       "</table>\n",
       "<p>2 rows × 21 columns</p>\n",
       "</div>"
      ],
      "text/plain": [
       "                          ride_id rideable_type  year  month  hour  \\\n",
       "0  31929 2018-01-01 02:06:17.5410         31929  2018      1     2   \n",
       "1  31845 2018-01-01 12:06:18.0390         31845  2018      1    12   \n",
       "\n",
       "               started_at                ended_at start_station_name  \\\n",
       "0 2018-01-01 02:06:17.541 2018-01-01 02:21:50.027     Exchange Place   \n",
       "1 2018-01-01 12:06:18.039 2018-01-01 12:15:28.443     Exchange Place   \n",
       "\n",
       "  start_station_id end_station_name  ...  start_lat  start_lng    end_lat  \\\n",
       "0             3183     Newport Pkwy  ...  40.716247 -74.033459  40.728745   \n",
       "1             3183     Newport Pkwy  ...  40.716247 -74.033459  40.728745   \n",
       "\n",
       "     end_lng  member_casual tripduration  tripduration(min)  triplength  \\\n",
       "0 -74.032108         member          932               16.0  2min-30min   \n",
       "1 -74.032108         member          550                9.0  2min-30min   \n",
       "\n",
       "  start_lat_norm  start_lng_norm  \n",
       "0      40.716247      -74.033459  \n",
       "1      40.716247      -74.033459  \n",
       "\n",
       "[2 rows x 21 columns]"
      ]
     },
     "execution_count": 16,
     "metadata": {},
     "output_type": "execute_result"
    }
   ],
   "source": [
    "\n",
    "dffy = dfy.loc[(dfy['tripduration(min)']>0) & (dfy['tripduration(min)']<1440)]\n",
    "print(len(dffy))\n",
    "dffy.head(2)"
   ]
  },
  {
   "cell_type": "code",
   "execution_count": 17,
   "metadata": {},
   "outputs": [],
   "source": [
    "# merged csv is too large for github - save csv outside of local repository\n",
    "# dffy.to_csv('Summary/JCNYnorm_oneday_202201_202212_citibike_tripdata.csv')\n",
    "dffy.to_csv('Summary/JCnorm_oneday_201801_202212_citibike_tripdata.csv')"
   ]
  },
  {
   "cell_type": "code",
   "execution_count": 73,
   "metadata": {},
   "outputs": [
    {
     "name": "stdout",
     "output_type": "stream",
     "text": [
      "[16.0, 9.0, 8.0, 6.0, 4.0, 10.0, 5.0, 6.0, 5.0, 31.0]\n",
      "118593834\n"
     ]
    }
   ],
   "source": [
    "# tripd = dfdataally['tripduration(min)'].to_list()\n",
    "# print(tripd[0:10])\n",
    "# print(len(tripd))"
   ]
  },
  {
   "cell_type": "code",
   "execution_count": 74,
   "metadata": {},
   "outputs": [
    {
     "data": {
      "text/plain": [
       "0    16.0\n",
       "1     9.0\n",
       "2     8.0\n",
       "3     6.0\n",
       "4     4.0\n",
       "Name: tripduration(min), dtype: float64"
      ]
     },
     "execution_count": 74,
     "metadata": {},
     "output_type": "execute_result"
    }
   ],
   "source": [
    "# tripd_df = dfdataally['tripduration(min)']\n",
    "# tripd_df.head()"
   ]
  },
  {
   "cell_type": "code",
   "execution_count": 78,
   "metadata": {},
   "outputs": [
    {
     "data": {
      "text/plain": [
       "count    1.185938e+08\n",
       "mean     1.813367e+01\n",
       "std      2.420034e+02\n",
       "min     -1.000900e+04\n",
       "25%      6.000000e+00\n",
       "50%      1.100000e+01\n",
       "75%      1.900000e+01\n",
       "max      3.251670e+05\n",
       "Name: tripduration(min), dtype: float64"
      ]
     },
     "execution_count": 78,
     "metadata": {},
     "output_type": "execute_result"
    }
   ],
   "source": [
    "# tripd_df.describe()"
   ]
  },
  {
   "cell_type": "code",
   "execution_count": 107,
   "metadata": {},
   "outputs": [
    {
     "data": {
      "text/plain": [
       "count    3.209000e+06\n",
       "mean     1.362638e+01\n",
       "std      3.954959e+01\n",
       "min      1.000000e+00\n",
       "25%      4.000000e+00\n",
       "50%      7.000000e+00\n",
       "75%      1.200000e+01\n",
       "max      1.439000e+03\n",
       "Name: tripduration(min), dtype: float64"
      ]
     },
     "execution_count": 107,
     "metadata": {},
     "output_type": "execute_result"
    }
   ],
   "source": [
    "# tdf1['tripduration(min)'].describe()"
   ]
  },
  {
   "cell_type": "code",
   "execution_count": 116,
   "metadata": {},
   "outputs": [
    {
     "data": {
      "image/png": "[encoded data removed]",
      "text/plain": [
       "<Figure size 640x480 with 1 Axes>"
      ]
     },
     "metadata": {},
     "output_type": "display_data"
    }
   ],
   "source": [
    "ax = dfdataally['tripduration(min)'].plot.hist()"
   ]
  },
  {
   "cell_type": "code",
   "execution_count": 117,
   "metadata": {},
   "outputs": [
    {
     "data": {
      "text/html": [
       "<div>\n",
       "<style scoped>\n",
       "    .dataframe tbody tr th:only-of-type {\n",
       "        vertical-align: middle;\n",
       "    }\n",
       "\n",
       "    .dataframe tbody tr th {\n",
       "        vertical-align: top;\n",
       "    }\n",
       "\n",
       "    .dataframe thead th {\n",
       "        text-align: right;\n",
       "    }\n",
       "</style>\n",
       "<table border=\"1\" class=\"dataframe\">\n",
       "  <thead>\n",
       "    <tr style=\"text-align: right;\">\n",
       "      <th></th>\n",
       "      <th>ride_id</th>\n",
       "      <th>rideable_type</th>\n",
       "      <th>year</th>\n",
       "      <th>month</th>\n",
       "      <th>started_at</th>\n",
       "      <th>ended_at</th>\n",
       "      <th>start_station_name</th>\n",
       "      <th>start_station_id</th>\n",
       "      <th>end_station_name</th>\n",
       "      <th>end_station_id</th>\n",
       "      <th>start_lat</th>\n",
       "      <th>start_lng</th>\n",
       "      <th>end_lat</th>\n",
       "      <th>end_lng</th>\n",
       "      <th>member_casual</th>\n",
       "      <th>tripduration</th>\n",
       "      <th>hour</th>\n",
       "      <th>tripduration(min)</th>\n",
       "      <th>triplength</th>\n",
       "    </tr>\n",
       "  </thead>\n",
       "  <tbody>\n",
       "    <tr>\n",
       "      <th>0</th>\n",
       "      <td>24722 2015-09-21 14:53:16</td>\n",
       "      <td>24722</td>\n",
       "      <td>2015</td>\n",
       "      <td>9</td>\n",
       "      <td>2015-09-21 14:53:16</td>\n",
       "      <td>2015-09-21 14:54:17</td>\n",
       "      <td>City Hall</td>\n",
       "      <td>3185</td>\n",
       "      <td>City Hall</td>\n",
       "      <td>3185</td>\n",
       "      <td>40.717732</td>\n",
       "      <td>-74.043845</td>\n",
       "      <td>40.717732</td>\n",
       "      <td>-74.043845</td>\n",
       "      <td>member</td>\n",
       "      <td>61</td>\n",
       "      <td>14</td>\n",
       "      <td>1.0</td>\n",
       "      <td>0-2min</td>\n",
       "    </tr>\n",
       "    <tr>\n",
       "      <th>1</th>\n",
       "      <td>24388 2015-09-21 14:55:59</td>\n",
       "      <td>24388</td>\n",
       "      <td>2015</td>\n",
       "      <td>9</td>\n",
       "      <td>2015-09-21 14:55:59</td>\n",
       "      <td>2015-09-21 15:00:50</td>\n",
       "      <td>Exchange Place</td>\n",
       "      <td>3183</td>\n",
       "      <td>Warren St</td>\n",
       "      <td>3187</td>\n",
       "      <td>40.716247</td>\n",
       "      <td>-74.033459</td>\n",
       "      <td>40.721124</td>\n",
       "      <td>-74.038051</td>\n",
       "      <td>casual</td>\n",
       "      <td>290</td>\n",
       "      <td>14</td>\n",
       "      <td>5.0</td>\n",
       "      <td>2min-30min</td>\n",
       "    </tr>\n",
       "    <tr>\n",
       "      <th>2</th>\n",
       "      <td>24442 2015-09-21 14:56:14</td>\n",
       "      <td>24442</td>\n",
       "      <td>2015</td>\n",
       "      <td>9</td>\n",
       "      <td>2015-09-21 14:56:14</td>\n",
       "      <td>2015-09-21 15:09:21</td>\n",
       "      <td>Exchange Place</td>\n",
       "      <td>3183</td>\n",
       "      <td>Exchange Place</td>\n",
       "      <td>3183</td>\n",
       "      <td>40.716247</td>\n",
       "      <td>-74.033459</td>\n",
       "      <td>40.716247</td>\n",
       "      <td>-74.033459</td>\n",
       "      <td>member</td>\n",
       "      <td>786</td>\n",
       "      <td>14</td>\n",
       "      <td>13.0</td>\n",
       "      <td>2min-30min</td>\n",
       "    </tr>\n",
       "    <tr>\n",
       "      <th>3</th>\n",
       "      <td>24678 2015-09-21 14:58:35</td>\n",
       "      <td>24678</td>\n",
       "      <td>2015</td>\n",
       "      <td>9</td>\n",
       "      <td>2015-09-21 14:58:35</td>\n",
       "      <td>2015-09-21 15:06:32</td>\n",
       "      <td>Hamilton Park</td>\n",
       "      <td>3203</td>\n",
       "      <td>Hamilton Park</td>\n",
       "      <td>3203</td>\n",
       "      <td>40.727596</td>\n",
       "      <td>-74.044247</td>\n",
       "      <td>40.727596</td>\n",
       "      <td>-74.044247</td>\n",
       "      <td>member</td>\n",
       "      <td>477</td>\n",
       "      <td>14</td>\n",
       "      <td>8.0</td>\n",
       "      <td>2min-30min</td>\n",
       "    </tr>\n",
       "    <tr>\n",
       "      <th>4</th>\n",
       "      <td>24574 2015-09-21 14:59:55</td>\n",
       "      <td>24574</td>\n",
       "      <td>2015</td>\n",
       "      <td>9</td>\n",
       "      <td>2015-09-21 14:59:55</td>\n",
       "      <td>2015-09-21 15:07:27</td>\n",
       "      <td>Hamilton Park</td>\n",
       "      <td>3203</td>\n",
       "      <td>Grove St PATH</td>\n",
       "      <td>3186</td>\n",
       "      <td>40.727596</td>\n",
       "      <td>-74.044247</td>\n",
       "      <td>40.719586</td>\n",
       "      <td>-74.043117</td>\n",
       "      <td>member</td>\n",
       "      <td>451</td>\n",
       "      <td>14</td>\n",
       "      <td>8.0</td>\n",
       "      <td>2min-30min</td>\n",
       "    </tr>\n",
       "  </tbody>\n",
       "</table>\n",
       "</div>"
      ],
      "text/plain": [
       "                     ride_id rideable_type  year  month          started_at  \\\n",
       "0  24722 2015-09-21 14:53:16         24722  2015      9 2015-09-21 14:53:16   \n",
       "1  24388 2015-09-21 14:55:59         24388  2015      9 2015-09-21 14:55:59   \n",
       "2  24442 2015-09-21 14:56:14         24442  2015      9 2015-09-21 14:56:14   \n",
       "3  24678 2015-09-21 14:58:35         24678  2015      9 2015-09-21 14:58:35   \n",
       "4  24574 2015-09-21 14:59:55         24574  2015      9 2015-09-21 14:59:55   \n",
       "\n",
       "             ended_at start_station_name start_station_id end_station_name  \\\n",
       "0 2015-09-21 14:54:17          City Hall             3185        City Hall   \n",
       "1 2015-09-21 15:00:50     Exchange Place             3183        Warren St   \n",
       "2 2015-09-21 15:09:21     Exchange Place             3183   Exchange Place   \n",
       "3 2015-09-21 15:06:32      Hamilton Park             3203    Hamilton Park   \n",
       "4 2015-09-21 15:07:27      Hamilton Park             3203    Grove St PATH   \n",
       "\n",
       "  end_station_id  start_lat  start_lng    end_lat    end_lng member_casual  \\\n",
       "0           3185  40.717732 -74.043845  40.717732 -74.043845        member   \n",
       "1           3187  40.716247 -74.033459  40.721124 -74.038051        casual   \n",
       "2           3183  40.716247 -74.033459  40.716247 -74.033459        member   \n",
       "3           3203  40.727596 -74.044247  40.727596 -74.044247        member   \n",
       "4           3186  40.727596 -74.044247  40.719586 -74.043117        member   \n",
       "\n",
       "   tripduration  hour  tripduration(min)  triplength  \n",
       "0            61    14                1.0      0-2min  \n",
       "1           290    14                5.0  2min-30min  \n",
       "2           786    14               13.0  2min-30min  \n",
       "3           477    14                8.0  2min-30min  \n",
       "4           451    14                8.0  2min-30min  "
      ]
     },
     "execution_count": 117,
     "metadata": {},
     "output_type": "execute_result"
    }
   ],
   "source": [
    "# reference  https://www.dataquest.io/blog/tutorial-add-column-pandas-dataframe-based-on-if-else-condition/\n",
    "conditions = [(dfdataally['tripduration(min)']>=0)&(dfdataally['tripduration(min)']<2),(dfdataally['tripduration(min)']>=2)&(dfdataally['tripduration(min)']<30),(dfdataall['tripduration(min)']>=30)&(dfdataall['tripduration(min)']<120),(dfdataall['tripduration(min)']>=120)&(dfdataall['tripduration(min)']<1440)]\n",
    "values = ['0-2min','2min-30min','30min-2hr','2hr-1day']\n",
    "dfdataally['triplength'] = np.select(conditions,values)\n",
    "dfdataally.head()"
   ]
  },
  {
   "cell_type": "code",
   "execution_count": 133,
   "metadata": {},
   "outputs": [
    {
     "data": {
      "text/plain": [
       "51"
      ]
     },
     "execution_count": 133,
     "metadata": {},
     "output_type": "execute_result"
    }
   ],
   "source": [
    "# dfdatabelowzero = dfdataall.loc[dfdataall['tripduration(min)']<0]\n",
    "# len(dfdatabelowzero)"
   ]
  },
  {
   "cell_type": "code",
   "execution_count": 134,
   "metadata": {},
   "outputs": [
    {
     "data": {
      "text/plain": [
       "63766"
      ]
     },
     "execution_count": 134,
     "metadata": {},
     "output_type": "execute_result"
    }
   ],
   "source": [
    "dfdatanope = dfdataally.loc[(dfdataall['tripduration(min)']>=0)&(dfdataally['tripduration(min)']<2)]\n",
    "dfdatanope_member = dfdataally.loc[(dfdataally['tripduration(min)']>=0)&(dfdataally['tripduration(min)']<2)&(dfdataally['member_casual'] == 'member')]\n",
    "dfdatanope_casual = dfdataally.loc[(dfdataall['tripduration(min)']>=0)&(dfdataally['tripduration(min)']<2)&(dfdataally['member_casual'] == 'casual')]\n",
    "len(dfdatanope)"
   ]
  },
  {
   "cell_type": "code",
   "execution_count": 135,
   "metadata": {},
   "outputs": [
    {
     "data": {
      "image/png": "[encoded data removed]",
      "text/plain": [
       "<Figure size 640x480 with 1 Axes>"
      ]
     },
     "metadata": {},
     "output_type": "display_data"
    }
   ],
   "source": [
    "ax = dfdatanope['tripduration(min)'].plot.hist()"
   ]
  },
  {
   "cell_type": "code",
   "execution_count": 126,
   "metadata": {},
   "outputs": [
    {
     "data": {
      "text/plain": [
       "2902857"
      ]
     },
     "execution_count": 126,
     "metadata": {},
     "output_type": "execute_result"
    }
   ],
   "source": [
    "dfdatashort = dfdataally.loc[(dfdataally['tripduration(min)']>=2)&(dfdataally['tripduration(min)']<30)]\n",
    "len(dfdatashort)"
   ]
  },
  {
   "cell_type": "code",
   "execution_count": 131,
   "metadata": {},
   "outputs": [
    {
     "data": {
      "image/png": "[encoded data removed]",
      "text/plain": [
       "<Figure size 640x480 with 1 Axes>"
      ]
     },
     "metadata": {},
     "output_type": "display_data"
    }
   ],
   "source": [
    "ax = dfdatashort['tripduration(min)'].plot.hist()"
   ]
  },
  {
   "cell_type": "code",
   "execution_count": 127,
   "metadata": {},
   "outputs": [
    {
     "data": {
      "text/plain": [
       "251917"
      ]
     },
     "execution_count": 127,
     "metadata": {},
     "output_type": "execute_result"
    }
   ],
   "source": [
    "dfdatamed = dfdataally.loc[(dfdataally['tripduration(min)']>=30)&(dfdataally['tripduration(min)']<240)]\n",
    "len(dfdatamed)"
   ]
  },
  {
   "cell_type": "code",
   "execution_count": 130,
   "metadata": {},
   "outputs": [
    {
     "data": {
      "image/png": "[encoded data removed]",
      "text/plain": [
       "<Figure size 640x480 with 1 Axes>"
      ]
     },
     "metadata": {},
     "output_type": "display_data"
    }
   ],
   "source": [
    "ax = dfdatamed['tripduration(min)'].plot.hist()"
   ]
  },
  {
   "cell_type": "code",
   "execution_count": 128,
   "metadata": {},
   "outputs": [
    {
     "data": {
      "text/plain": [
       "8318"
      ]
     },
     "execution_count": 128,
     "metadata": {},
     "output_type": "execute_result"
    }
   ],
   "source": [
    "dfdatalong = dfdataally.loc[(dfdataally['tripduration(min)']>=240)&(dfdataally['tripduration(min)']<1440)]\n",
    "len(dfdatalong)"
   ]
  },
  {
   "cell_type": "code",
   "execution_count": 136,
   "metadata": {},
   "outputs": [
    {
     "data": {
      "image/png": "[encoded data removed]",
      "text/plain": [
       "<Figure size 640x480 with 1 Axes>"
      ]
     },
     "metadata": {},
     "output_type": "display_data"
    }
   ],
   "source": [
    "ax = dfdatalong['tripduration(min)'].plot.hist()"
   ]
  },
  {
   "attachments": {},
   "cell_type": "markdown",
   "metadata": {},
   "source": [
    "Unneeded code but keep for future reference"
   ]
  },
  {
   "cell_type": "code",
   "execution_count": null,
   "metadata": {},
   "outputs": [],
   "source": [
    "# reference: create YYYYMM list\n",
    "# not needed but cool loop: create YYYYMM list \n",
    "# lyyyymm  = []\n",
    "# for y in range (2015,2023):\n",
    "#     for m in range (1,13):\n",
    "#         if m <10:\n",
    "#             lyyyymm.append(f'{y}0{m}')\n",
    "#         else:\n",
    "#             lyyyymm.append(f'{y}{m}')\n",
    "\n",
    "# print(lyyyymm)\n",
    "# len(lyyyymm)\n"
   ]
  }
 ],
 "metadata": {
  "kernelspec": {
   "display_name": "PythonDataOne",
   "language": "python",
   "name": "python3"
  },
  "language_info": {
   "codemirror_mode": {
    "name": "ipython",
    "version": 3
   },
   "file_extension": ".py",
   "mimetype": "text/x-python",
   "name": "python",
   "nbconvert_exporter": "python",
   "pygments_lexer": "ipython3",
   "version": "3.7.7"
  },
  "orig_nbformat": 4,
  "vscode": {
   "interpreter": {
    "hash": "e09424b516901a071045f3ed6bcd6beb164e9564e937a7754100a941fb2722f2"
   }
  }
 },
 "nbformat": 4,
 "nbformat_minor": 2
}
