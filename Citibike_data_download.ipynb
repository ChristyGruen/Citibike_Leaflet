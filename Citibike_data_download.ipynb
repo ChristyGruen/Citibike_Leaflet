{
 "cells": [
  {
   "attachments": {},
   "cell_type": "markdown",
   "metadata": {},
   "source": [
    "Citibike data for Tableau\n",
    "Module 18 Homework\n",
    "Chris Gruenhagen"
   ]
  },
  {
   "attachments": {},
   "cell_type": "markdown",
   "metadata": {},
   "source": [
    "Data Plan:\n",
    " - download JC-YYYYMM-citibike-tripdata.csv.zip files from 2015-09 to 2022-12\n",
    " - read csvs from 2015-09 to 2021-01 into one pandas DataFrame (csvs with dataformat1)\n",
    " - read csvs from 2021-02 into a second pandas DataFrame (csvs with dataformat2)\n",
    "\n",
    "Idea: loop\n",
    "    - create lists\n",
    "        * ldata1\n",
    "        * ldata2\n",
    "    - open csv into df\n",
    "    - if csv[0]header == 'Trip Duration', append to ldata1\n",
    "    - elif csv[0]header == 'Ride ID', append to ldata2\n",
    "    end loop\n",
    "    then loop through list1 and concatenate into bigdf1, loop through list2 and concatenate into bigdf2\n",
    "\n",
    "\n",
    "dataformat1\n",
    "    Trip Duration (seconds)\n",
    "    Start Time and Date\n",
    "    Stop Time and Date\n",
    "    Start Station Name\n",
    "    End Station Name\n",
    "    Station ID\n",
    "    Station Lat/Long\n",
    "    Bike ID\n",
    "    User Type (Customer = 24-hour pass or 3-day pass user; Subscriber = Annual Member)\n",
    "    Gender (Zero=unknown; 1=male; 2=female)\n",
    "    Year of Birth\n",
    "\n",
    "dataformat2\n",
    "    Ride ID\n",
    "    Rideable type\n",
    "    Started at\n",
    "    Ended at\n",
    "    Start station name\n",
    "    Start station ID\n",
    "    End station name\n",
    "    End station ID\n",
    "    Start latitude\n",
    "    Start longitude\n",
    "    End latitude\n",
    "    End Longitude\n",
    "    Member or casual ride\n"
   ]
  },
  {
   "attachments": {},
   "cell_type": "markdown",
   "metadata": {},
   "source": [
    "DOWNLOAD DATA\n",
    "references\n",
    "\n",
    "https://stackoverflow.com/questions/67284489/how-to-load-a-csv-file-from-zipped-folder-from-url-into-pandas-dataframe?noredirect=1&lq=1\n",
    "\n",
    "https://stackoverflow.com/questions/3451111/unzipping-files-in-python"
   ]
  },
  {
   "cell_type": "code",
   "execution_count": 1,
   "metadata": {},
   "outputs": [],
   "source": [
    "# Import dependencies\n",
    "import zipfile\n",
    "from urllib.request import urlopen\n",
    "import shutil\n",
    "import os\n",
    "import pandas as pd\n",
    "\n",
    "\n",
    "# Import dependencies\n",
    "from splinter import Browser\n",
    "from bs4 import BeautifulSoup as soup\n",
    "from webdriver_manager.chrome import ChromeDriverManager\n",
    "\n",
    "\n",
    "# import matplotlib.pyplot as plt\n",
    "# import matplotlib.dates as mdates\n",
    "# import mplcursors\n",
    "# import pandas as pd\n",
    "from datetime import datetime\n",
    "from datetime import timezone\n",
    "import numpy as np\n",
    "# import os\n",
    "\n",
    "import glob\n",
    "import time\n",
    "import requests\n",
    "import bs4"
   ]
  },
  {
   "cell_type": "code",
   "execution_count": 2,
   "metadata": {},
   "outputs": [],
   "source": [
    "#  # USED TO PULL DATA FROM WEBSITE - DO NOT NEED TO RERUN IF CSVs are in Resources directory\n",
    "baseurl = 'https://s3.amazonaws.com/tripdata/'"
   ]
  },
  {
   "cell_type": "code",
   "execution_count": 3,
   "metadata": {},
   "outputs": [],
   "source": [
    "#  # USED TO PULL DATA FROM WEBSITE - DO NOT NEED TO RERUN IF CSVs are in Resources directory\n",
    "indexurl = 'https://s3.amazonaws.com/tripdata/index.html'"
   ]
  },
  {
   "cell_type": "code",
   "execution_count": 4,
   "metadata": {},
   "outputs": [],
   "source": [
    "#  # USED TO PULL DATA FROM WEBSITE - DO NOT NEED TO RERUN IF CSVs are in Resources directory\n",
    "# # this opens the test browser\n",
    "executable_path = {'executable_path': ChromeDriverManager().install()}\n",
    "browser = Browser('chrome', **executable_path, headless=False)\n"
   ]
  },
  {
   "cell_type": "code",
   "execution_count": 5,
   "metadata": {},
   "outputs": [
    {
     "data": {
      "text/html": [
       "<div>\n",
       "<style scoped>\n",
       "    .dataframe tbody tr th:only-of-type {\n",
       "        vertical-align: middle;\n",
       "    }\n",
       "\n",
       "    .dataframe tbody tr th {\n",
       "        vertical-align: top;\n",
       "    }\n",
       "\n",
       "    .dataframe thead th {\n",
       "        text-align: right;\n",
       "    }\n",
       "</style>\n",
       "<table border=\"1\" class=\"dataframe\">\n",
       "  <thead>\n",
       "    <tr style=\"text-align: right;\">\n",
       "      <th></th>\n",
       "      <th>Name</th>\n",
       "      <th>Date Modified</th>\n",
       "      <th>Size</th>\n",
       "      <th>Type</th>\n",
       "    </tr>\n",
       "  </thead>\n",
       "  <tbody>\n",
       "    <tr>\n",
       "      <th>0</th>\n",
       "      <td>201306-citibike-tripdata.zip</td>\n",
       "      <td>Apr 30th 2018, 08:18:55 am</td>\n",
       "      <td>16.79 MB</td>\n",
       "      <td>ZIP file</td>\n",
       "    </tr>\n",
       "    <tr>\n",
       "      <th>1</th>\n",
       "      <td>201307-201402-citibike-tripdata.zip</td>\n",
       "      <td>Jan 18th 2017, 04:23:25 pm</td>\n",
       "      <td>178.26 MB</td>\n",
       "      <td>ZIP file</td>\n",
       "    </tr>\n",
       "    <tr>\n",
       "      <th>2</th>\n",
       "      <td>201307-citibike-tripdata.zip</td>\n",
       "      <td>Jan 18th 2017, 04:23:27 pm</td>\n",
       "      <td>27.07 MB</td>\n",
       "      <td>ZIP file</td>\n",
       "    </tr>\n",
       "    <tr>\n",
       "      <th>3</th>\n",
       "      <td>201308-citibike-tripdata.zip</td>\n",
       "      <td>Jan 18th 2017, 04:23:27 pm</td>\n",
       "      <td>32.09 MB</td>\n",
       "      <td>ZIP file</td>\n",
       "    </tr>\n",
       "    <tr>\n",
       "      <th>4</th>\n",
       "      <td>201309-citibike-tripdata.zip</td>\n",
       "      <td>Jan 18th 2017, 04:23:27 pm</td>\n",
       "      <td>33.16 MB</td>\n",
       "      <td>ZIP file</td>\n",
       "    </tr>\n",
       "  </tbody>\n",
       "</table>\n",
       "</div>"
      ],
      "text/plain": [
       "                                  Name               Date Modified       Size  \\\n",
       "0         201306-citibike-tripdata.zip  Apr 30th 2018, 08:18:55 am   16.79 MB   \n",
       "1  201307-201402-citibike-tripdata.zip  Jan 18th 2017, 04:23:25 pm  178.26 MB   \n",
       "2         201307-citibike-tripdata.zip  Jan 18th 2017, 04:23:27 pm   27.07 MB   \n",
       "3         201308-citibike-tripdata.zip  Jan 18th 2017, 04:23:27 pm   32.09 MB   \n",
       "4         201309-citibike-tripdata.zip  Jan 18th 2017, 04:23:27 pm   33.16 MB   \n",
       "\n",
       "       Type  \n",
       "0  ZIP file  \n",
       "1  ZIP file  \n",
       "2  ZIP file  \n",
       "3  ZIP file  \n",
       "4  ZIP file  "
      ]
     },
     "execution_count": 5,
     "metadata": {},
     "output_type": "execute_result"
    }
   ],
   "source": [
    "#  # USED TO PULL DATA FROM WEBSITE - DO NOT NEED TO RERUN IF CSVs are in Resources directory\n",
    "# # scrape list of zip files from 'https://s3.amazonaws.com/tripdata/index.html'\n",
    "browser.visit(indexurl)\n",
    "time.sleep(5)\n",
    "html = browser.html\n",
    "tablelist = pd.read_html(html)\n",
    "tabledf = tablelist[0]\n",
    "tabledf.head()"
   ]
  },
  {
   "cell_type": "code",
   "execution_count": 6,
   "metadata": {},
   "outputs": [
    {
     "data": {
      "text/html": [
       "<div>\n",
       "<style scoped>\n",
       "    .dataframe tbody tr th:only-of-type {\n",
       "        vertical-align: middle;\n",
       "    }\n",
       "\n",
       "    .dataframe tbody tr th {\n",
       "        vertical-align: top;\n",
       "    }\n",
       "\n",
       "    .dataframe thead th {\n",
       "        text-align: right;\n",
       "    }\n",
       "</style>\n",
       "<table border=\"1\" class=\"dataframe\">\n",
       "  <thead>\n",
       "    <tr style=\"text-align: right;\">\n",
       "      <th></th>\n",
       "      <th>Name</th>\n",
       "      <th>Date Modified</th>\n",
       "      <th>Size</th>\n",
       "      <th>Type</th>\n",
       "    </tr>\n",
       "  </thead>\n",
       "  <tbody>\n",
       "    <tr>\n",
       "      <th>116</th>\n",
       "      <td>JC-201509-citibike-tripdata.csv.zip</td>\n",
       "      <td>Apr 6th 2017, 04:01:34 pm</td>\n",
       "      <td>125 KB</td>\n",
       "      <td>ZIP file</td>\n",
       "    </tr>\n",
       "    <tr>\n",
       "      <th>117</th>\n",
       "      <td>JC-201510-citibike-tripdata.csv.zip</td>\n",
       "      <td>Apr 6th 2017, 04:01:35 pm</td>\n",
       "      <td>357 KB</td>\n",
       "      <td>ZIP file</td>\n",
       "    </tr>\n",
       "    <tr>\n",
       "      <th>118</th>\n",
       "      <td>JC-201511-citibike-tripdata.csv.zip</td>\n",
       "      <td>Apr 6th 2017, 04:01:37 pm</td>\n",
       "      <td>281 KB</td>\n",
       "      <td>ZIP file</td>\n",
       "    </tr>\n",
       "    <tr>\n",
       "      <th>119</th>\n",
       "      <td>JC-201512-citibike-tripdata.csv.zip</td>\n",
       "      <td>Apr 6th 2017, 04:01:38 pm</td>\n",
       "      <td>222 KB</td>\n",
       "      <td>ZIP file</td>\n",
       "    </tr>\n",
       "    <tr>\n",
       "      <th>120</th>\n",
       "      <td>JC-201601-citibike-tripdata.csv.zip</td>\n",
       "      <td>Apr 6th 2017, 04:01:38 pm</td>\n",
       "      <td>141 KB</td>\n",
       "      <td>ZIP file</td>\n",
       "    </tr>\n",
       "    <tr>\n",
       "      <th>...</th>\n",
       "      <td>...</td>\n",
       "      <td>...</td>\n",
       "      <td>...</td>\n",
       "      <td>...</td>\n",
       "    </tr>\n",
       "    <tr>\n",
       "      <th>199</th>\n",
       "      <td>JC-202208-citibike-tripdata.csv.zip</td>\n",
       "      <td>Sep 8th 2022, 05:29:34 pm</td>\n",
       "      <td>3.38 MB</td>\n",
       "      <td>ZIP file</td>\n",
       "    </tr>\n",
       "    <tr>\n",
       "      <th>200</th>\n",
       "      <td>JC-202209-citibike-tripdata.csv.zip</td>\n",
       "      <td>Oct 11th 2022, 11:55:32 am</td>\n",
       "      <td>3.38 MB</td>\n",
       "      <td>ZIP file</td>\n",
       "    </tr>\n",
       "    <tr>\n",
       "      <th>201</th>\n",
       "      <td>JC-202210-citibike-tripdata.csv.zip</td>\n",
       "      <td>Nov 8th 2022, 05:00:25 pm</td>\n",
       "      <td>2.94 MB</td>\n",
       "      <td>ZIP file</td>\n",
       "    </tr>\n",
       "    <tr>\n",
       "      <th>202</th>\n",
       "      <td>JC-202211-citibike-tripdata.csv.zip</td>\n",
       "      <td>Dec 5th 2022, 02:35:28 pm</td>\n",
       "      <td>2.30 MB</td>\n",
       "      <td>ZIP file</td>\n",
       "    </tr>\n",
       "    <tr>\n",
       "      <th>203</th>\n",
       "      <td>JC-202212-citibike-tripdata.csv.zip</td>\n",
       "      <td>Jan 3rd 2023, 02:39:20 pm</td>\n",
       "      <td>1.67 MB</td>\n",
       "      <td>ZIP file</td>\n",
       "    </tr>\n",
       "  </tbody>\n",
       "</table>\n",
       "<p>88 rows × 4 columns</p>\n",
       "</div>"
      ],
      "text/plain": [
       "                                    Name               Date Modified     Size  \\\n",
       "116  JC-201509-citibike-tripdata.csv.zip   Apr 6th 2017, 04:01:34 pm   125 KB   \n",
       "117  JC-201510-citibike-tripdata.csv.zip   Apr 6th 2017, 04:01:35 pm   357 KB   \n",
       "118  JC-201511-citibike-tripdata.csv.zip   Apr 6th 2017, 04:01:37 pm   281 KB   \n",
       "119  JC-201512-citibike-tripdata.csv.zip   Apr 6th 2017, 04:01:38 pm   222 KB   \n",
       "120  JC-201601-citibike-tripdata.csv.zip   Apr 6th 2017, 04:01:38 pm   141 KB   \n",
       "..                                   ...                         ...      ...   \n",
       "199  JC-202208-citibike-tripdata.csv.zip   Sep 8th 2022, 05:29:34 pm  3.38 MB   \n",
       "200  JC-202209-citibike-tripdata.csv.zip  Oct 11th 2022, 11:55:32 am  3.38 MB   \n",
       "201  JC-202210-citibike-tripdata.csv.zip   Nov 8th 2022, 05:00:25 pm  2.94 MB   \n",
       "202  JC-202211-citibike-tripdata.csv.zip   Dec 5th 2022, 02:35:28 pm  2.30 MB   \n",
       "203  JC-202212-citibike-tripdata.csv.zip   Jan 3rd 2023, 02:39:20 pm  1.67 MB   \n",
       "\n",
       "         Type  \n",
       "116  ZIP file  \n",
       "117  ZIP file  \n",
       "118  ZIP file  \n",
       "119  ZIP file  \n",
       "120  ZIP file  \n",
       "..        ...  \n",
       "199  ZIP file  \n",
       "200  ZIP file  \n",
       "201  ZIP file  \n",
       "202  ZIP file  \n",
       "203  ZIP file  \n",
       "\n",
       "[88 rows x 4 columns]"
      ]
     },
     "execution_count": 6,
     "metadata": {},
     "output_type": "execute_result"
    }
   ],
   "source": [
    "#  # USED TO PULL DATA FROM WEBSITE - DO NOT NEED TO RERUN IF CSVs are in Resources directory\n",
    "# # select subset of data from pandas dataframe where JCzips.Name contains JC\n",
    "JCzips = tabledf.loc[tabledf[\"Name\"].str.contains('JC')]\n",
    "JCzips"
   ]
  },
  {
   "cell_type": "code",
   "execution_count": 7,
   "metadata": {},
   "outputs": [
    {
     "name": "stdout",
     "output_type": "stream",
     "text": [
      "['JC-201509-citibike-tripdata.csv.zip', 'JC-201510-citibike-tripdata.csv.zip', 'JC-201511-citibike-tripdata.csv.zip', 'JC-201512-citibike-tripdata.csv.zip', 'JC-201601-citibike-tripdata.csv.zip', 'JC-201602-citibike-tripdata.csv.zip', 'JC-201603-citibike-tripdata.csv.zip', 'JC-201604-citibike-tripdata.csv.zip', 'JC-201605-citibike-tripdata.csv.zip', 'JC-201606-citibike-tripdata.csv.zip', 'JC-201607-citibike-tripdata.csv.zip', 'JC-201608-citibike-tripdata.csv.zip', 'JC-201609-citibike-tripdata.csv.zip', 'JC-201610-citibike-tripdata.csv.zip', 'JC-201611-citibike-tripdata.csv.zip', 'JC-201612-citibike-tripdata.csv.zip', 'JC-201701-citibike-tripdata.csv.zip', 'JC-201702-citibike-tripdata.csv.zip', 'JC-201703-citibike-tripdata.csv.zip', 'JC-201704-citibike-tripdata.csv.zip', 'JC-201705-citibike-tripdata.csv.zip', 'JC-201706-citibike-tripdata.csv.zip', 'JC-201707-citibike-tripdata.csv.zip', 'JC-201708 citibike-tripdata.csv.zip', 'JC-201709-citibike-tripdata.csv.zip', 'JC-201710-citibike-tripdata.csv.zip', 'JC-201711-citibike-tripdata.csv.zip', 'JC-201712-citibike-tripdata.csv.zip', 'JC-201801-citibike-tripdata.csv.zip', 'JC-201802-citibike-tripdata.csv.zip', 'JC-201803-citibike-tripdata.csv.zip', 'JC-201804-citibike-tripdata.csv.zip', 'JC-201805-citibike-tripdata.csv.zip', 'JC-201806-citibike-tripdata.csv.zip', 'JC-201807-citibike-tripdata.csv.zip', 'JC-201808-citibike-tripdata.csv.zip', 'JC-201809-citibike-tripdata.csv.zip', 'JC-201810-citibike-tripdata.csv.zip', 'JC-201811-citibike-tripdata.csv.zip', 'JC-201812-citibike-tripdata.csv.zip', 'JC-201901-citibike-tripdata.csv.zip', 'JC-201902-citibike-tripdata.csv.zip', 'JC-201903-citibike-tripdata.csv.zip', 'JC-201904-citibike-tripdata.csv.zip', 'JC-201905-citibike-tripdata.csv.zip', 'JC-201906-citibike-tripdata.csv.zip', 'JC-201907-citibike-tripdata.csv.zip', 'JC-201908-citibike-tripdata.csv.zip', 'JC-201909-citibike-tripdata.csv.zip', 'JC-201910-citibike-tripdata.csv.zip', 'JC-201911-citibike-tripdata.csv.zip', 'JC-201912-citibike-tripdata.csv.zip', 'JC-202001-citibike-tripdata.csv.zip', 'JC-202002-citibike-tripdata.csv.zip', 'JC-202003-citibike-tripdata.csv.zip', 'JC-202004-citibike-tripdata.csv.zip', 'JC-202005-citibike-tripdata.csv.zip', 'JC-202006-citibike-tripdata.csv.zip', 'JC-202007-citibike-tripdata.csv.zip', 'JC-202008-citibike-tripdata.csv.zip', 'JC-202009-citibike-tripdata.csv.zip', 'JC-202010-citibike-tripdata.csv.zip', 'JC-202011-citibike-tripdata.csv.zip', 'JC-202012-citibike-tripdata.csv.zip', 'JC-202101-citibike-tripdata.csv.zip', 'JC-202102-citibike-tripdata.csv.zip', 'JC-202103-citibike-tripdata.csv.zip', 'JC-202104-citibike-tripdata.csv.zip', 'JC-202105-citibike-tripdata.csv.zip', 'JC-202106-citibike-tripdata.csv.zip', 'JC-202107-citibike-tripdata.csv.zip', 'JC-202108-citibike-tripdata.csv.zip', 'JC-202109-citibike-tripdata.csv.zip', 'JC-202110-citibike-tripdata.csv.zip', 'JC-202111-citibike-tripdata.csv.zip', 'JC-202112-citibike-tripdata.csv.zip', 'JC-202201-citibike-tripdata.csv.zip', 'JC-202202-citibike-tripdata.csv.zip', 'JC-202203-citibike-tripdata.csv.zip', 'JC-202204-citibike-tripdata.csv.zip', 'JC-202205-citibike-tripdata.csv.zip', 'JC-202206-citibike-tripdata.csv.zip', 'JC-202207-citbike-tripdata.csv.zip', 'JC-202208-citibike-tripdata.csv.zip', 'JC-202209-citibike-tripdata.csv.zip', 'JC-202210-citibike-tripdata.csv.zip', 'JC-202211-citibike-tripdata.csv.zip', 'JC-202212-citibike-tripdata.csv.zip']\n"
     ]
    }
   ],
   "source": [
    "#  # USED TO PULL DATA FROM WEBSITE - DO NOT NEED TO RERUN IF CSVs are in Resources directory\n",
    "# # create list from pandas dataframe column JCzips.Name\n",
    "lJCzips = JCzips.Name.values.tolist()\n",
    "print(lJCzips)\n"
   ]
  },
  {
   "cell_type": "code",
   "execution_count": 8,
   "metadata": {},
   "outputs": [
    {
     "name": "stdout",
     "output_type": "stream",
     "text": [
      "['JC-201509-citibike-tripdata.csv.zip', 'JC-201510-citibike-tripdata.csv.zip', 'JC-201511-citibike-tripdata.csv.zip', 'JC-201512-citibike-tripdata.csv.zip', 'JC-201601-citibike-tripdata.csv.zip', 'JC-201602-citibike-tripdata.csv.zip', 'JC-201603-citibike-tripdata.csv.zip', 'JC-201604-citibike-tripdata.csv.zip', 'JC-201605-citibike-tripdata.csv.zip', 'JC-201606-citibike-tripdata.csv.zip', 'JC-201607-citibike-tripdata.csv.zip', 'JC-201608-citibike-tripdata.csv.zip', 'JC-201609-citibike-tripdata.csv.zip', 'JC-201610-citibike-tripdata.csv.zip', 'JC-201611-citibike-tripdata.csv.zip', 'JC-201612-citibike-tripdata.csv.zip', 'JC-201701-citibike-tripdata.csv.zip', 'JC-201702-citibike-tripdata.csv.zip', 'JC-201703-citibike-tripdata.csv.zip', 'JC-201704-citibike-tripdata.csv.zip', 'JC-201705-citibike-tripdata.csv.zip', 'JC-201706-citibike-tripdata.csv.zip', 'JC-201707-citibike-tripdata.csv.zip', 'JC-201708-citibike-tripdata.csv.zip', 'JC-201709-citibike-tripdata.csv.zip', 'JC-201710-citibike-tripdata.csv.zip', 'JC-201711-citibike-tripdata.csv.zip', 'JC-201712-citibike-tripdata.csv.zip', 'JC-201801-citibike-tripdata.csv.zip', 'JC-201802-citibike-tripdata.csv.zip', 'JC-201803-citibike-tripdata.csv.zip', 'JC-201804-citibike-tripdata.csv.zip', 'JC-201805-citibike-tripdata.csv.zip', 'JC-201806-citibike-tripdata.csv.zip', 'JC-201807-citibike-tripdata.csv.zip', 'JC-201808-citibike-tripdata.csv.zip', 'JC-201809-citibike-tripdata.csv.zip', 'JC-201810-citibike-tripdata.csv.zip', 'JC-201811-citibike-tripdata.csv.zip', 'JC-201812-citibike-tripdata.csv.zip', 'JC-201901-citibike-tripdata.csv.zip', 'JC-201902-citibike-tripdata.csv.zip', 'JC-201903-citibike-tripdata.csv.zip', 'JC-201904-citibike-tripdata.csv.zip', 'JC-201905-citibike-tripdata.csv.zip', 'JC-201906-citibike-tripdata.csv.zip', 'JC-201907-citibike-tripdata.csv.zip', 'JC-201908-citibike-tripdata.csv.zip', 'JC-201909-citibike-tripdata.csv.zip', 'JC-201910-citibike-tripdata.csv.zip', 'JC-201911-citibike-tripdata.csv.zip', 'JC-201912-citibike-tripdata.csv.zip', 'JC-202001-citibike-tripdata.csv.zip', 'JC-202002-citibike-tripdata.csv.zip', 'JC-202003-citibike-tripdata.csv.zip', 'JC-202004-citibike-tripdata.csv.zip', 'JC-202005-citibike-tripdata.csv.zip', 'JC-202006-citibike-tripdata.csv.zip', 'JC-202007-citibike-tripdata.csv.zip', 'JC-202008-citibike-tripdata.csv.zip', 'JC-202009-citibike-tripdata.csv.zip', 'JC-202010-citibike-tripdata.csv.zip', 'JC-202011-citibike-tripdata.csv.zip', 'JC-202012-citibike-tripdata.csv.zip', 'JC-202101-citibike-tripdata.csv.zip', 'JC-202102-citibike-tripdata.csv.zip', 'JC-202103-citibike-tripdata.csv.zip', 'JC-202104-citibike-tripdata.csv.zip', 'JC-202105-citibike-tripdata.csv.zip', 'JC-202106-citibike-tripdata.csv.zip', 'JC-202107-citibike-tripdata.csv.zip', 'JC-202108-citibike-tripdata.csv.zip', 'JC-202109-citibike-tripdata.csv.zip', 'JC-202110-citibike-tripdata.csv.zip', 'JC-202111-citibike-tripdata.csv.zip', 'JC-202112-citibike-tripdata.csv.zip', 'JC-202201-citibike-tripdata.csv.zip', 'JC-202202-citibike-tripdata.csv.zip', 'JC-202203-citibike-tripdata.csv.zip', 'JC-202204-citibike-tripdata.csv.zip', 'JC-202205-citibike-tripdata.csv.zip', 'JC-202206-citibike-tripdata.csv.zip', 'JC-202207-citbike-tripdata.csv.zip', 'JC-202208-citibike-tripdata.csv.zip', 'JC-202209-citibike-tripdata.csv.zip', 'JC-202210-citibike-tripdata.csv.zip', 'JC-202211-citibike-tripdata.csv.zip', 'JC-202212-citibike-tripdata.csv.zip']\n"
     ]
    }
   ],
   "source": [
    "# # need to loop through list and replace blanks with a dash  DO NOT USE - WILL NOT CAPTURE 201708 zip file\n",
    "lJCzips2 = []\n",
    "\n",
    "for z in lJCzips:\n",
    "    zz = z.replace(\" \",\"-\")\n",
    "    lJCzips2.append(zz)\n",
    "\n",
    "print(lJCzips2)"
   ]
  },
  {
   "cell_type": "code",
   "execution_count": 9,
   "metadata": {},
   "outputs": [
    {
     "name": "stdout",
     "output_type": "stream",
     "text": [
      "['JC-201509-citibike-tripdata.csv.zip', 'JC-201510-citibike-tripdata.csv.zip', 'JC-201511-citibike-tripdata.csv.zip', 'JC-201512-citibike-tripdata.csv.zip', 'JC-201601-citibike-tripdata.csv.zip', 'JC-201602-citibike-tripdata.csv.zip', 'JC-201603-citibike-tripdata.csv.zip', 'JC-201604-citibike-tripdata.csv.zip', 'JC-201605-citibike-tripdata.csv.zip', 'JC-201606-citibike-tripdata.csv.zip', 'JC-201607-citibike-tripdata.csv.zip', 'JC-201608-citibike-tripdata.csv.zip', 'JC-201609-citibike-tripdata.csv.zip', 'JC-201610-citibike-tripdata.csv.zip', 'JC-201611-citibike-tripdata.csv.zip', 'JC-201612-citibike-tripdata.csv.zip', 'JC-201701-citibike-tripdata.csv.zip', 'JC-201702-citibike-tripdata.csv.zip', 'JC-201703-citibike-tripdata.csv.zip', 'JC-201704-citibike-tripdata.csv.zip', 'JC-201705-citibike-tripdata.csv.zip', 'JC-201706-citibike-tripdata.csv.zip', 'JC-201707-citibike-tripdata.csv.zip', 'JC-201708%20citibike-tripdata.csv.zip', 'JC-201709-citibike-tripdata.csv.zip', 'JC-201710-citibike-tripdata.csv.zip', 'JC-201711-citibike-tripdata.csv.zip', 'JC-201712-citibike-tripdata.csv.zip', 'JC-201801-citibike-tripdata.csv.zip', 'JC-201802-citibike-tripdata.csv.zip', 'JC-201803-citibike-tripdata.csv.zip', 'JC-201804-citibike-tripdata.csv.zip', 'JC-201805-citibike-tripdata.csv.zip', 'JC-201806-citibike-tripdata.csv.zip', 'JC-201807-citibike-tripdata.csv.zip', 'JC-201808-citibike-tripdata.csv.zip', 'JC-201809-citibike-tripdata.csv.zip', 'JC-201810-citibike-tripdata.csv.zip', 'JC-201811-citibike-tripdata.csv.zip', 'JC-201812-citibike-tripdata.csv.zip', 'JC-201901-citibike-tripdata.csv.zip', 'JC-201902-citibike-tripdata.csv.zip', 'JC-201903-citibike-tripdata.csv.zip', 'JC-201904-citibike-tripdata.csv.zip', 'JC-201905-citibike-tripdata.csv.zip', 'JC-201906-citibike-tripdata.csv.zip', 'JC-201907-citibike-tripdata.csv.zip', 'JC-201908-citibike-tripdata.csv.zip', 'JC-201909-citibike-tripdata.csv.zip', 'JC-201910-citibike-tripdata.csv.zip', 'JC-201911-citibike-tripdata.csv.zip', 'JC-201912-citibike-tripdata.csv.zip', 'JC-202001-citibike-tripdata.csv.zip', 'JC-202002-citibike-tripdata.csv.zip', 'JC-202003-citibike-tripdata.csv.zip', 'JC-202004-citibike-tripdata.csv.zip', 'JC-202005-citibike-tripdata.csv.zip', 'JC-202006-citibike-tripdata.csv.zip', 'JC-202007-citibike-tripdata.csv.zip', 'JC-202008-citibike-tripdata.csv.zip', 'JC-202009-citibike-tripdata.csv.zip', 'JC-202010-citibike-tripdata.csv.zip', 'JC-202011-citibike-tripdata.csv.zip', 'JC-202012-citibike-tripdata.csv.zip', 'JC-202101-citibike-tripdata.csv.zip', 'JC-202102-citibike-tripdata.csv.zip', 'JC-202103-citibike-tripdata.csv.zip', 'JC-202104-citibike-tripdata.csv.zip', 'JC-202105-citibike-tripdata.csv.zip', 'JC-202106-citibike-tripdata.csv.zip', 'JC-202107-citibike-tripdata.csv.zip', 'JC-202108-citibike-tripdata.csv.zip', 'JC-202109-citibike-tripdata.csv.zip', 'JC-202110-citibike-tripdata.csv.zip', 'JC-202111-citibike-tripdata.csv.zip', 'JC-202112-citibike-tripdata.csv.zip', 'JC-202201-citibike-tripdata.csv.zip', 'JC-202202-citibike-tripdata.csv.zip', 'JC-202203-citibike-tripdata.csv.zip', 'JC-202204-citibike-tripdata.csv.zip', 'JC-202205-citibike-tripdata.csv.zip', 'JC-202206-citibike-tripdata.csv.zip', 'JC-202207-citbike-tripdata.csv.zip', 'JC-202208-citibike-tripdata.csv.zip', 'JC-202209-citibike-tripdata.csv.zip', 'JC-202210-citibike-tripdata.csv.zip', 'JC-202211-citibike-tripdata.csv.zip', 'JC-202212-citibike-tripdata.csv.zip']\n"
     ]
    }
   ],
   "source": [
    "#  # USED TO PULL DATA FROM WEBSITE - DO NOT NEED TO RERUN IF CSVs are in Resources directory\n",
    "# # need to loop through list and replace blanks with a dash  DO NOT USE - WILL NOT CAPTURE 201708 zip file\n",
    "lJCzips3 = []\n",
    "\n",
    "for z in lJCzips:\n",
    "    zz = z.replace(\" \",\"%20\")\n",
    "    lJCzips3.append(zz)\n",
    "\n",
    "print(lJCzips3)"
   ]
  },
  {
   "cell_type": "code",
   "execution_count": 10,
   "metadata": {},
   "outputs": [],
   "source": [
    "#  # USED TO PULL DATA FROM WEBSITE - DO NOT NEED TO RERUN IF CSVs are in Resources directory\n",
    "#  # extracting zipfile from URL - works for everything!\n",
    "\n",
    "for JC3 in lJCzips3:\n",
    "        # searchindex = lJCzips2.index(JC2)\n",
    "        # # print(searchindex)\n",
    "        # filename = lJCzips[searchindex]\n",
    "        # print(filename)   \n",
    "        try:\n",
    "            # zipfile_name = f'JC-{ym}-citibike-tripdata.csv.zip'\n",
    "            # file_name = f'JC-{YYYYMM}-citibike-tripdata.csv'\n",
    "\n",
    "            with urlopen(baseurl+JC3) as response, open(JC3, 'wb') as out_file:\n",
    "                shutil.copyfileobj(response, out_file)\n",
    "\n",
    "                # extracting required file from zipfile\n",
    "                with zipfile.ZipFile(JC3) as zf:\n",
    "                    zf.extractall('Resources')\n",
    "            # deleting the zipfile from the directory\n",
    "            os.remove(JC3)\n",
    "\n",
    "            # loading data from the file\n",
    "            # data = pd.read_csv(f'Resources/{file_name}')\n",
    "        except:\n",
    "            print(f\"{JC3} not found\")"
   ]
  },
  {
   "cell_type": "code",
   "execution_count": 11,
   "metadata": {},
   "outputs": [],
   "source": [
    "#  # USED TO PULL DATA FROM WEBSITE - DO NOT NEED TO RERUN IF CSVs are in Resources directory\n",
    "browser.quit()"
   ]
  },
  {
   "cell_type": "code",
   "execution_count": 12,
   "metadata": {},
   "outputs": [
    {
     "data": {
      "text/plain": [
       "['JC-201509-citibike-tripdata.csv',\n",
       " 'JC-201510-citibike-tripdata.csv',\n",
       " 'JC-201511-citibike-tripdata.csv',\n",
       " 'JC-201512-citibike-tripdata.csv',\n",
       " 'JC-201604-citibike-tripdata.csv',\n",
       " 'JC-201605-citibike-tripdata.csv',\n",
       " 'JC-201606-citibike-tripdata.csv',\n",
       " 'JC-201607-citibike-tripdata.csv',\n",
       " 'JC-201608-citibike-tripdata.csv',\n",
       " 'JC-201609-citibike-tripdata.csv',\n",
       " 'JC-20161-citibike-tripdata.csv',\n",
       " 'JC-201610-citibike-tripdata.csv',\n",
       " 'JC-201611-citibike-tripdata.csv',\n",
       " 'JC-201612-citibike-tripdata.csv',\n",
       " 'JC-20162-citibike-tripdata.csv',\n",
       " 'JC-20163-citibike-tripdata.csv',\n",
       " 'JC-201701-citibike-tripdata.csv',\n",
       " 'JC-201702-citibike-tripdata.csv',\n",
       " 'JC-201703-citibike-tripdata.csv',\n",
       " 'JC-201704-citibike-tripdata.csv',\n",
       " 'JC-201705-citibike-tripdata.csv',\n",
       " 'JC-201706-citibike-tripdata.csv',\n",
       " 'JC-201707-citibike-tripdata.csv',\n",
       " 'JC-201708 citibike-tripdata.csv',\n",
       " 'JC-201709-citibike-tripdata.csv',\n",
       " 'JC-201710-citibike-tripdata.csv',\n",
       " 'JC-201711-citibike-tripdata.csv',\n",
       " 'JC-201712-citibike-tripdata.csv',\n",
       " 'JC-201801-citibike-tripdata.csv',\n",
       " 'JC-201802-citibike-tripdata.csv',\n",
       " 'JC-201803-citibike-tripdata.csv',\n",
       " 'JC-201804-citibike-tripdata.csv',\n",
       " 'JC-201805-citibike-tripdata.csv',\n",
       " 'JC-201806-citibike-tripdata.csv',\n",
       " 'JC-201807-citibike-tripdata.csv',\n",
       " 'JC-201808-citibike-tripdata.csv',\n",
       " 'JC-201809-citibike-tripdata.csv',\n",
       " 'JC-201810-citibike-tripdata.csv',\n",
       " 'JC-201811-citibike-tripdata.csv',\n",
       " 'JC-201812-citibike-tripdata.csv',\n",
       " 'JC-201901-citibike-tripdata.csv',\n",
       " 'JC-201902-citibike-tripdata.csv',\n",
       " 'JC-201903-citibike-tripdata.csv',\n",
       " 'JC-201904-citibike-tripdata.csv',\n",
       " 'JC-201905-citibike-tripdata.csv',\n",
       " 'JC-201906-citibike-tripdata.csv',\n",
       " 'JC-201907-citibike-tripdata.csv',\n",
       " 'JC-201908-citibike-tripdata.csv',\n",
       " 'JC-201909-citibike-tripdata.csv',\n",
       " 'JC-201910-citibike-tripdata.csv',\n",
       " 'JC-201911-citibike-tripdata.csv',\n",
       " 'JC-201912-citibike-tripdata.csv',\n",
       " 'JC-202001-citibike-tripdata.csv',\n",
       " 'JC-202002-citibike-tripdata.csv',\n",
       " 'JC-202003-citibike-tripdata.csv',\n",
       " 'JC-202004-citibike-tripdata.csv',\n",
       " 'JC-202005-citibike-tripdata.csv',\n",
       " 'JC-202006-citibike-tripdata.csv',\n",
       " 'JC-202007-citibike-tripdata.csv',\n",
       " 'JC-202008-citibike-tripdata.csv',\n",
       " 'JC-202009-citibike-tripdata.csv',\n",
       " 'JC-202010-citibike-tripdata.csv',\n",
       " 'JC-202011-citibike-tripdata.csv',\n",
       " 'JC-202012-citibike-tripdata.csv',\n",
       " 'JC-202101-citibike-tripdata.csv',\n",
       " 'JC-202102-citibike-tripdata.csv',\n",
       " 'JC-202103-citibike-tripdata.csv',\n",
       " 'JC-202104-citibike-tripdata.csv',\n",
       " 'JC-202105-citibike-tripdata.csv',\n",
       " 'JC-202106-citibike-tripdata.csv',\n",
       " 'JC-202107-citibike-tripdata.csv',\n",
       " 'JC-202108-citibike-tripdata.csv',\n",
       " 'JC-202109-citibike-tripdata.csv',\n",
       " 'JC-202110-citibike-tripdata.csv',\n",
       " 'JC-202111-citibike-tripdata.csv',\n",
       " 'JC-202112-citibike-tripdata.csv',\n",
       " 'JC-202201-citibike-tripdata.csv',\n",
       " 'JC-202202-citibike-tripdata.csv',\n",
       " 'JC-202203-citibike-tripdata.csv',\n",
       " 'JC-202204-citibike-tripdata.csv',\n",
       " 'JC-202205-citibike-tripdata.csv',\n",
       " 'JC-202206-citibike-tripdata.csv',\n",
       " 'JC-202207-citbike-tripdata.csv',\n",
       " 'JC-202208-citibike-tripdata.csv',\n",
       " 'JC-202209-citibike-tripdata.csv',\n",
       " 'JC-202210-citibike-tripdata.csv',\n",
       " 'JC-202211-citibike-tripdata.csv',\n",
       " 'JC-202212-citibike-tripdata.csv']"
      ]
     },
     "execution_count": 12,
     "metadata": {},
     "output_type": "execute_result"
    }
   ],
   "source": [
    "# get list of csvs from file\n",
    "allFiles = os.listdir(\"Resources\")    \n",
    "csvFiles = list(filter(lambda f: f.endswith('.csv'), allFiles))\n",
    "csvFiles"
   ]
  },
  {
   "cell_type": "code",
   "execution_count": 13,
   "metadata": {},
   "outputs": [],
   "source": [
    "# loop through csv files and write to lists\n",
    "ldata1 = [] #list for dfs with data format 1\n",
    "ldata2 = [] #list for dfs with data format 2\n",
    "ldata3 = [] #list to catch unmatched dfs\n",
    "for csvFile in csvFiles:\n",
    "    caticorn = pd.read_csv(f'Resources/{csvFile}')\n",
    "    if caticorn.columns[0] == 'Trip Duration' or caticorn.columns[0] == 'tripduration':\n",
    "        ldata1.append(caticorn)\n",
    "    elif caticorn.columns[0] == 'ride_id':\n",
    "        ldata2.append(caticorn)\n",
    "    else:\n",
    "        ldata3.append(caticorn)"
   ]
  },
  {
   "cell_type": "code",
   "execution_count": 14,
   "metadata": {},
   "outputs": [
    {
     "name": "stdout",
     "output_type": "stream",
     "text": [
      "15\n",
      "65\n",
      "Trip Duration\n",
      "Start Time\n",
      "Stop Time\n",
      "Start Station ID\n",
      "Start Station Name\n",
      "Start Station Latitude\n",
      "Start Station Longitude\n",
      "End Station ID\n",
      "End Station Name\n",
      "End Station Latitude\n",
      "End Station Longitude\n",
      "Bike ID\n",
      "User Type\n",
      "Birth Year\n",
      "Gender\n",
      "tripduration\n",
      "starttime\n",
      "stoptime\n",
      "start station id\n",
      "start station name\n",
      "start station latitude\n",
      "start station longitude\n",
      "end station id\n",
      "end station name\n",
      "end station latitude\n",
      "end station longitude\n",
      "bikeid\n",
      "usertype\n",
      "birth year\n",
      "gender\n"
     ]
    }
   ],
   "source": [
    "#check number of columns in ldata1\n",
    "# print(len(ldata1[0].columns))\n",
    "lspinch = []\n",
    "for spinch in ldata1:\n",
    "    if len(spinch.columns) not in lspinch:\n",
    "        lspinch.append(len(spinch.columns))\n",
    "\n",
    "for ldata1_n_cols in lspinch:\n",
    "    print(ldata1_n_cols)\n",
    "\n",
    "# reference: check for changes in column names between dataframes for ldata1\n",
    "print(len(ldata1))\n",
    "lturnip = []\n",
    "# lturnipseed = []\n",
    "for turnip in ldata1:\n",
    "    for turnipseed in range(0,ldata1_n_cols):\n",
    "        if turnip.columns[turnipseed] not in lturnip:\n",
    "            lturnip.append(turnip.columns[turnipseed])\n",
    "        \n",
    "for t in lturnip:\n",
    "    print (t)"
   ]
  },
  {
   "cell_type": "code",
   "execution_count": 15,
   "metadata": {},
   "outputs": [
    {
     "name": "stdout",
     "output_type": "stream",
     "text": [
      "15\n"
     ]
    }
   ],
   "source": [
    "print(ldata1_n_cols)"
   ]
  },
  {
   "cell_type": "code",
   "execution_count": 16,
   "metadata": {},
   "outputs": [],
   "source": [
    "ldata1_new_colnames = ['tripduration','started_at','ended_at', 'start_station_id','start_station_name','start_lat','start_lng','end_station_id','end_station_name','end_lat','end_lng','bikeid','member_casual','birthyear','gender']"
   ]
  },
  {
   "cell_type": "code",
   "execution_count": 17,
   "metadata": {},
   "outputs": [],
   "source": [
    "# create clean ldata1 list:  update column names to match ldata2 columns (where applicable)\n",
    "# parsnip and derivatives are for-loop variables only\n",
    "\n",
    "ldata1clean = []\n",
    "for parsnip in ldata1:\n",
    "    parsnip.columns = ldata1_new_colnames\n",
    "    parsnip['ride_id'] = [f\"{parsnip['bikeid'][ele]} {parsnip['started_at'][ele]}\" for ele in parsnip.index]\n",
    "    parsnip['rideable_type'] = parsnip['bikeid']\n",
    "    parsnip['started_at'] = parsnip['started_at'].astype('datetime64')\n",
    "    parsnip['ended_at'] = parsnip['ended_at'].astype('datetime64')\n",
    "    parsnip['rideable_type'] = parsnip['rideable_type'].astype('str')\n",
    "    parsnip['start_station_id'] = parsnip['start_station_id'].astype('str')\n",
    "    parsnip['end_station_id'] = parsnip['end_station_id'].astype('str')   \n",
    "    parsnippy = parsnip[['ride_id','rideable_type','started_at','ended_at','start_station_name','start_station_id','end_station_name','end_station_id','start_lat','start_lng','end_lat','end_lng','member_casual','tripduration']]\n",
    "    ldata1clean.append(parsnippy)\n",
    "        \n"
   ]
  },
  {
   "cell_type": "code",
   "execution_count": 18,
   "metadata": {},
   "outputs": [
    {
     "name": "stdout",
     "output_type": "stream",
     "text": [
      "14\n",
      "ride_id\n",
      "rideable_type\n",
      "started_at\n",
      "ended_at\n",
      "start_station_name\n",
      "start_station_id\n",
      "end_station_name\n",
      "end_station_id\n",
      "start_lat\n",
      "start_lng\n",
      "end_lat\n",
      "end_lng\n",
      "member_casual\n",
      "tripduration\n"
     ]
    }
   ],
   "source": [
    "# reference: check for changes in column names between dataframes for ldata1clean\n",
    "#  spinch, turnip and their derivatives are for-loop variables only\n",
    "lspinch4 = []\n",
    "for spinch4 in ldata1clean:\n",
    "    if len(spinch4.columns) not in lspinch4:\n",
    "        lspinch4.append(len(spinch4.columns))\n",
    "\n",
    "for ldata1clean_n_cols in lspinch4:\n",
    "    print(ldata1clean_n_cols)\n",
    "\n",
    "lturnip4 = []\n",
    "# lturnipseed = []\n",
    "for turnip4 in ldata1clean:\n",
    "    for turnipseed4 in range(0,ldata1clean_n_cols):\n",
    "        if turnip4.columns[turnipseed4] not in lturnip4:\n",
    "            lturnip4.append(turnip4.columns[turnipseed4])\n",
    "        \n",
    "for t4 in lturnip4:\n",
    "    print (t4)"
   ]
  },
  {
   "cell_type": "code",
   "execution_count": 19,
   "metadata": {},
   "outputs": [
    {
     "data": {
      "text/html": [
       "<div>\n",
       "<style scoped>\n",
       "    .dataframe tbody tr th:only-of-type {\n",
       "        vertical-align: middle;\n",
       "    }\n",
       "\n",
       "    .dataframe tbody tr th {\n",
       "        vertical-align: top;\n",
       "    }\n",
       "\n",
       "    .dataframe thead th {\n",
       "        text-align: right;\n",
       "    }\n",
       "</style>\n",
       "<table border=\"1\" class=\"dataframe\">\n",
       "  <thead>\n",
       "    <tr style=\"text-align: right;\">\n",
       "      <th></th>\n",
       "      <th>ride_id</th>\n",
       "      <th>rideable_type</th>\n",
       "      <th>started_at</th>\n",
       "      <th>ended_at</th>\n",
       "      <th>start_station_name</th>\n",
       "      <th>start_station_id</th>\n",
       "      <th>end_station_name</th>\n",
       "      <th>end_station_id</th>\n",
       "      <th>start_lat</th>\n",
       "      <th>start_lng</th>\n",
       "      <th>end_lat</th>\n",
       "      <th>end_lng</th>\n",
       "      <th>member_casual</th>\n",
       "      <th>tripduration</th>\n",
       "    </tr>\n",
       "  </thead>\n",
       "  <tbody>\n",
       "    <tr>\n",
       "      <th>0</th>\n",
       "      <td>24722 2015-09-21 14:53:16</td>\n",
       "      <td>24722</td>\n",
       "      <td>2015-09-21 14:53:16</td>\n",
       "      <td>2015-09-21 14:54:17</td>\n",
       "      <td>City Hall</td>\n",
       "      <td>3185</td>\n",
       "      <td>City Hall</td>\n",
       "      <td>3185</td>\n",
       "      <td>40.717732</td>\n",
       "      <td>-74.043845</td>\n",
       "      <td>40.717732</td>\n",
       "      <td>-74.043845</td>\n",
       "      <td>Subscriber</td>\n",
       "      <td>61</td>\n",
       "    </tr>\n",
       "    <tr>\n",
       "      <th>1</th>\n",
       "      <td>24388 2015-09-21 14:55:59</td>\n",
       "      <td>24388</td>\n",
       "      <td>2015-09-21 14:55:59</td>\n",
       "      <td>2015-09-21 15:00:50</td>\n",
       "      <td>Exchange Place</td>\n",
       "      <td>3183</td>\n",
       "      <td>Warren St</td>\n",
       "      <td>3187</td>\n",
       "      <td>40.716247</td>\n",
       "      <td>-74.033459</td>\n",
       "      <td>40.721124</td>\n",
       "      <td>-74.038051</td>\n",
       "      <td>Customer</td>\n",
       "      <td>290</td>\n",
       "    </tr>\n",
       "    <tr>\n",
       "      <th>2</th>\n",
       "      <td>24442 2015-09-21 14:56:14</td>\n",
       "      <td>24442</td>\n",
       "      <td>2015-09-21 14:56:14</td>\n",
       "      <td>2015-09-21 15:09:21</td>\n",
       "      <td>Exchange Place</td>\n",
       "      <td>3183</td>\n",
       "      <td>Exchange Place</td>\n",
       "      <td>3183</td>\n",
       "      <td>40.716247</td>\n",
       "      <td>-74.033459</td>\n",
       "      <td>40.716247</td>\n",
       "      <td>-74.033459</td>\n",
       "      <td>Subscriber</td>\n",
       "      <td>786</td>\n",
       "    </tr>\n",
       "    <tr>\n",
       "      <th>3</th>\n",
       "      <td>24678 2015-09-21 14:58:35</td>\n",
       "      <td>24678</td>\n",
       "      <td>2015-09-21 14:58:35</td>\n",
       "      <td>2015-09-21 15:06:32</td>\n",
       "      <td>Hamilton Park</td>\n",
       "      <td>3203</td>\n",
       "      <td>Hamilton Park</td>\n",
       "      <td>3203</td>\n",
       "      <td>40.727596</td>\n",
       "      <td>-74.044247</td>\n",
       "      <td>40.727596</td>\n",
       "      <td>-74.044247</td>\n",
       "      <td>Subscriber</td>\n",
       "      <td>477</td>\n",
       "    </tr>\n",
       "    <tr>\n",
       "      <th>4</th>\n",
       "      <td>24574 2015-09-21 14:59:55</td>\n",
       "      <td>24574</td>\n",
       "      <td>2015-09-21 14:59:55</td>\n",
       "      <td>2015-09-21 15:07:27</td>\n",
       "      <td>Hamilton Park</td>\n",
       "      <td>3203</td>\n",
       "      <td>Grove St PATH</td>\n",
       "      <td>3186</td>\n",
       "      <td>40.727596</td>\n",
       "      <td>-74.044247</td>\n",
       "      <td>40.719586</td>\n",
       "      <td>-74.043117</td>\n",
       "      <td>Subscriber</td>\n",
       "      <td>451</td>\n",
       "    </tr>\n",
       "  </tbody>\n",
       "</table>\n",
       "</div>"
      ],
      "text/plain": [
       "                     ride_id rideable_type          started_at  \\\n",
       "0  24722 2015-09-21 14:53:16         24722 2015-09-21 14:53:16   \n",
       "1  24388 2015-09-21 14:55:59         24388 2015-09-21 14:55:59   \n",
       "2  24442 2015-09-21 14:56:14         24442 2015-09-21 14:56:14   \n",
       "3  24678 2015-09-21 14:58:35         24678 2015-09-21 14:58:35   \n",
       "4  24574 2015-09-21 14:59:55         24574 2015-09-21 14:59:55   \n",
       "\n",
       "             ended_at start_station_name start_station_id end_station_name  \\\n",
       "0 2015-09-21 14:54:17          City Hall             3185        City Hall   \n",
       "1 2015-09-21 15:00:50     Exchange Place             3183        Warren St   \n",
       "2 2015-09-21 15:09:21     Exchange Place             3183   Exchange Place   \n",
       "3 2015-09-21 15:06:32      Hamilton Park             3203    Hamilton Park   \n",
       "4 2015-09-21 15:07:27      Hamilton Park             3203    Grove St PATH   \n",
       "\n",
       "  end_station_id  start_lat  start_lng    end_lat    end_lng member_casual  \\\n",
       "0           3185  40.717732 -74.043845  40.717732 -74.043845    Subscriber   \n",
       "1           3187  40.716247 -74.033459  40.721124 -74.038051      Customer   \n",
       "2           3183  40.716247 -74.033459  40.716247 -74.033459    Subscriber   \n",
       "3           3203  40.727596 -74.044247  40.727596 -74.044247    Subscriber   \n",
       "4           3186  40.727596 -74.044247  40.719586 -74.043117    Subscriber   \n",
       "\n",
       "   tripduration  \n",
       "0            61  \n",
       "1           290  \n",
       "2           786  \n",
       "3           477  \n",
       "4           451  "
      ]
     },
     "execution_count": 19,
     "metadata": {},
     "output_type": "execute_result"
    }
   ],
   "source": [
    "ldata1clean[0].head()"
   ]
  },
  {
   "cell_type": "code",
   "execution_count": 20,
   "metadata": {},
   "outputs": [
    {
     "data": {
      "text/plain": [
       "ride_id                       object\n",
       "rideable_type                 object\n",
       "started_at            datetime64[ns]\n",
       "ended_at              datetime64[ns]\n",
       "start_station_name            object\n",
       "start_station_id              object\n",
       "end_station_name              object\n",
       "end_station_id                object\n",
       "start_lat                    float64\n",
       "start_lng                    float64\n",
       "end_lat                      float64\n",
       "end_lng                      float64\n",
       "member_casual                 object\n",
       "tripduration                   int64\n",
       "dtype: object"
      ]
     },
     "execution_count": 20,
     "metadata": {},
     "output_type": "execute_result"
    }
   ],
   "source": [
    "ldata1clean[0].dtypes"
   ]
  },
  {
   "cell_type": "code",
   "execution_count": 21,
   "metadata": {},
   "outputs": [],
   "source": [
    "##  DO NOT USE THIS CODE - FOR CONCEPT ONLY - check out how to change column types, calculate trip duration\n",
    "# ldata1clean0df = ldata1clean[0].copy()\n",
    "# ldata1clean0df['started_at'] = ldata1clean0df['started_at'].astype('datetime64')\n",
    "# ldata1clean0df['ended_at'] = ldata1clean0df['ended_at'].astype('datetime64')\n",
    "# ldata1clean0df['duration'] = (ldata1clean0df['ended_at']- ldata1clean0df['started_at'])/1000000000\n",
    "# ldata1clean0df['duration'] = ldata1clean0df['duration'].astype('int64')\n",
    "# ldata1clean0df['rideable_type'] = ldata1clean0df['rideable_type'].astype('str')\n",
    "# ldata1clean0df['start_station_id'] = ldata1clean0df['start_station_id'].astype('str')\n",
    "# ldata1clean0df['end_station_id'] = ldata1clean0df['end_station_id'].astype('str')   \n",
    "# ldata1clean0df.head()\n"
   ]
  },
  {
   "cell_type": "code",
   "execution_count": 22,
   "metadata": {},
   "outputs": [],
   "source": [
    "# ##  DO NOT USE THIS CODE - FOR CONCEPT ONLY - check out how to change column types, calculate trip duration - check that changes were applied to df\n",
    "# ldata1clean0df.dtypes"
   ]
  },
  {
   "cell_type": "code",
   "execution_count": 23,
   "metadata": {},
   "outputs": [
    {
     "name": "stdout",
     "output_type": "stream",
     "text": [
      "13\n",
      "23\n",
      "ride_id\n",
      "rideable_type\n",
      "started_at\n",
      "ended_at\n",
      "start_station_name\n",
      "start_station_id\n",
      "end_station_name\n",
      "end_station_id\n",
      "start_lat\n",
      "start_lng\n",
      "end_lat\n",
      "end_lng\n",
      "member_casual\n"
     ]
    }
   ],
   "source": [
    "#check number of columns in ldata2\n",
    "#  spinch, turnip and their derivatives are for-loop variables only\n",
    "lspinch2 = []\n",
    "for spinch2 in ldata2:\n",
    "    if len(spinch2.columns) not in lspinch2:\n",
    "        lspinch2.append(len(spinch2.columns))\n",
    "\n",
    "for ldata2_n_cols in lspinch2:\n",
    "    print(ldata2_n_cols)\n",
    "\n",
    "# reference: check for changes in column names between dataframes for ldata2\n",
    "print(len(ldata2))\n",
    "lturnip2 = []\n",
    "# lturnipseed2 = []\n",
    "for turnip2 in ldata2:\n",
    "    for turnipseed2 in range(0,ldata2_n_cols):\n",
    "        if turnip2.columns[turnipseed2] not in lturnip2:\n",
    "            lturnip2.append(turnip2.columns[turnipseed2])\n",
    "        \n",
    "for t2 in lturnip2:\n",
    "    print (t2)"
   ]
  },
  {
   "cell_type": "code",
   "execution_count": 24,
   "metadata": {},
   "outputs": [],
   "source": [
    "# create clean ldata2 list:  add column to match ldata1 tripduration\n",
    "# parsnip and derivatives are for-loop variables only\n",
    "\n",
    "ldata2clean = []\n",
    "for parsnip8 in ldata2:\n",
    "    parsnip8['started_at'] = parsnip8['started_at'].astype('datetime64')\n",
    "    parsnip8['ended_at'] = parsnip8['ended_at'].astype('datetime64')\n",
    "    parsnip8['tripduration'] = [(parsnip8['ended_at'][row]-parsnip8['started_at'][row])/1000000000 for row in parsnip8.index]\n",
    "    parsnip8['tripduration'] = parsnip8['tripduration'].astype('int64')\n",
    "    parsnippy8 = parsnip8[['ride_id','rideable_type','started_at','ended_at','start_station_name','start_station_id','end_station_name','end_station_id','start_lat','start_lng','end_lat','end_lng','member_casual','tripduration']]\n",
    "    ldata2clean.append(parsnippy8)"
   ]
  },
  {
   "cell_type": "code",
   "execution_count": 25,
   "metadata": {},
   "outputs": [
    {
     "name": "stdout",
     "output_type": "stream",
     "text": [
      "14\n",
      "ride_id\n",
      "rideable_type\n",
      "started_at\n",
      "ended_at\n",
      "start_station_name\n",
      "start_station_id\n",
      "end_station_name\n",
      "end_station_id\n",
      "start_lat\n",
      "start_lng\n",
      "end_lat\n",
      "end_lng\n",
      "member_casual\n",
      "tripduration\n"
     ]
    }
   ],
   "source": [
    "# reference: check for changes in column names between dataframes for ldata2clean\n",
    "#  spinch, turnip and their derivatives are for-loop variables only\n",
    "lspinch4 = []\n",
    "for spinch4 in ldata2clean:\n",
    "    if len(spinch4.columns) not in lspinch4:\n",
    "        lspinch4.append(len(spinch4.columns))\n",
    "\n",
    "for ldata1clean_n_cols in lspinch4:\n",
    "    print(ldata1clean_n_cols)\n",
    "\n",
    "lturnip4 = []\n",
    "# lturnipseed = []\n",
    "for turnip4 in ldata2clean:\n",
    "    for turnipseed4 in range(0,ldata1clean_n_cols):\n",
    "        if turnip4.columns[turnipseed4] not in lturnip4:\n",
    "            lturnip4.append(turnip4.columns[turnipseed4])\n",
    "        \n",
    "for t4 in lturnip4:\n",
    "    print (t4)"
   ]
  },
  {
   "cell_type": "code",
   "execution_count": 26,
   "metadata": {},
   "outputs": [
    {
     "data": {
      "text/plain": [
       "ride_id                       object\n",
       "rideable_type                 object\n",
       "started_at            datetime64[ns]\n",
       "ended_at              datetime64[ns]\n",
       "start_station_name            object\n",
       "start_station_id              object\n",
       "end_station_name              object\n",
       "end_station_id                object\n",
       "start_lat                    float64\n",
       "start_lng                    float64\n",
       "end_lat                      float64\n",
       "end_lng                      float64\n",
       "member_casual                 object\n",
       "tripduration                   int64\n",
       "dtype: object"
      ]
     },
     "execution_count": 26,
     "metadata": {},
     "output_type": "execute_result"
    }
   ],
   "source": [
    "ldata2clean[0].dtypes"
   ]
  },
  {
   "cell_type": "code",
   "execution_count": 27,
   "metadata": {},
   "outputs": [
    {
     "data": {
      "text/html": [
       "<div>\n",
       "<style scoped>\n",
       "    .dataframe tbody tr th:only-of-type {\n",
       "        vertical-align: middle;\n",
       "    }\n",
       "\n",
       "    .dataframe tbody tr th {\n",
       "        vertical-align: top;\n",
       "    }\n",
       "\n",
       "    .dataframe thead th {\n",
       "        text-align: right;\n",
       "    }\n",
       "</style>\n",
       "<table border=\"1\" class=\"dataframe\">\n",
       "  <thead>\n",
       "    <tr style=\"text-align: right;\">\n",
       "      <th></th>\n",
       "      <th>ride_id</th>\n",
       "      <th>rideable_type</th>\n",
       "      <th>started_at</th>\n",
       "      <th>ended_at</th>\n",
       "      <th>start_station_name</th>\n",
       "      <th>start_station_id</th>\n",
       "      <th>end_station_name</th>\n",
       "      <th>end_station_id</th>\n",
       "      <th>start_lat</th>\n",
       "      <th>start_lng</th>\n",
       "      <th>end_lat</th>\n",
       "      <th>end_lng</th>\n",
       "      <th>member_casual</th>\n",
       "      <th>tripduration</th>\n",
       "    </tr>\n",
       "  </thead>\n",
       "  <tbody>\n",
       "    <tr>\n",
       "      <th>0</th>\n",
       "      <td>121DD7DD23CB1335</td>\n",
       "      <td>docked_bike</td>\n",
       "      <td>2021-02-03 23:11:28</td>\n",
       "      <td>2021-02-03 23:18:28</td>\n",
       "      <td>Hoboken Ave at Monmouth St</td>\n",
       "      <td>JC105</td>\n",
       "      <td>Christ Hospital</td>\n",
       "      <td>JC034</td>\n",
       "      <td>40.735208</td>\n",
       "      <td>-74.046964</td>\n",
       "      <td>40.734786</td>\n",
       "      <td>-74.050444</td>\n",
       "      <td>member</td>\n",
       "      <td>420</td>\n",
       "    </tr>\n",
       "    <tr>\n",
       "      <th>1</th>\n",
       "      <td>FD73FB85F008349D</td>\n",
       "      <td>docked_bike</td>\n",
       "      <td>2021-02-27 16:34:05</td>\n",
       "      <td>2021-02-27 16:56:40</td>\n",
       "      <td>Newport Pkwy</td>\n",
       "      <td>JC008</td>\n",
       "      <td>Marin Light Rail</td>\n",
       "      <td>JC013</td>\n",
       "      <td>40.728744</td>\n",
       "      <td>-74.032108</td>\n",
       "      <td>40.714584</td>\n",
       "      <td>-74.042817</td>\n",
       "      <td>member</td>\n",
       "      <td>1355</td>\n",
       "    </tr>\n",
       "    <tr>\n",
       "      <th>2</th>\n",
       "      <td>39F9E6663CB5FDF6</td>\n",
       "      <td>docked_bike</td>\n",
       "      <td>2021-02-26 23:16:04</td>\n",
       "      <td>2021-02-26 23:22:25</td>\n",
       "      <td>Journal Square</td>\n",
       "      <td>JC103</td>\n",
       "      <td>Baldwin at Montgomery</td>\n",
       "      <td>JC020</td>\n",
       "      <td>40.733670</td>\n",
       "      <td>-74.062500</td>\n",
       "      <td>40.723659</td>\n",
       "      <td>-74.064194</td>\n",
       "      <td>member</td>\n",
       "      <td>381</td>\n",
       "    </tr>\n",
       "    <tr>\n",
       "      <th>3</th>\n",
       "      <td>A64745CB0792EC6F</td>\n",
       "      <td>docked_bike</td>\n",
       "      <td>2021-02-24 16:51:50</td>\n",
       "      <td>2021-02-24 17:16:09</td>\n",
       "      <td>Hoboken Ave at Monmouth St</td>\n",
       "      <td>JC105</td>\n",
       "      <td>Hoboken Ave at Monmouth St</td>\n",
       "      <td>JC105</td>\n",
       "      <td>40.735208</td>\n",
       "      <td>-74.046963</td>\n",
       "      <td>40.735208</td>\n",
       "      <td>-74.046964</td>\n",
       "      <td>casual</td>\n",
       "      <td>1459</td>\n",
       "    </tr>\n",
       "    <tr>\n",
       "      <th>4</th>\n",
       "      <td>75CC76EB9543764A</td>\n",
       "      <td>docked_bike</td>\n",
       "      <td>2021-02-24 20:44:16</td>\n",
       "      <td>2021-02-24 20:44:46</td>\n",
       "      <td>Hoboken Ave at Monmouth St</td>\n",
       "      <td>JC105</td>\n",
       "      <td>Hoboken Ave at Monmouth St</td>\n",
       "      <td>JC105</td>\n",
       "      <td>40.735208</td>\n",
       "      <td>-74.046963</td>\n",
       "      <td>40.735208</td>\n",
       "      <td>-74.046964</td>\n",
       "      <td>member</td>\n",
       "      <td>30</td>\n",
       "    </tr>\n",
       "  </tbody>\n",
       "</table>\n",
       "</div>"
      ],
      "text/plain": [
       "            ride_id rideable_type          started_at            ended_at  \\\n",
       "0  121DD7DD23CB1335   docked_bike 2021-02-03 23:11:28 2021-02-03 23:18:28   \n",
       "1  FD73FB85F008349D   docked_bike 2021-02-27 16:34:05 2021-02-27 16:56:40   \n",
       "2  39F9E6663CB5FDF6   docked_bike 2021-02-26 23:16:04 2021-02-26 23:22:25   \n",
       "3  A64745CB0792EC6F   docked_bike 2021-02-24 16:51:50 2021-02-24 17:16:09   \n",
       "4  75CC76EB9543764A   docked_bike 2021-02-24 20:44:16 2021-02-24 20:44:46   \n",
       "\n",
       "           start_station_name start_station_id            end_station_name  \\\n",
       "0  Hoboken Ave at Monmouth St            JC105             Christ Hospital   \n",
       "1                Newport Pkwy            JC008            Marin Light Rail   \n",
       "2              Journal Square            JC103       Baldwin at Montgomery   \n",
       "3  Hoboken Ave at Monmouth St            JC105  Hoboken Ave at Monmouth St   \n",
       "4  Hoboken Ave at Monmouth St            JC105  Hoboken Ave at Monmouth St   \n",
       "\n",
       "  end_station_id  start_lat  start_lng    end_lat    end_lng member_casual  \\\n",
       "0          JC034  40.735208 -74.046964  40.734786 -74.050444        member   \n",
       "1          JC013  40.728744 -74.032108  40.714584 -74.042817        member   \n",
       "2          JC020  40.733670 -74.062500  40.723659 -74.064194        member   \n",
       "3          JC105  40.735208 -74.046963  40.735208 -74.046964        casual   \n",
       "4          JC105  40.735208 -74.046963  40.735208 -74.046964        member   \n",
       "\n",
       "   tripduration  \n",
       "0           420  \n",
       "1          1355  \n",
       "2           381  \n",
       "3          1459  \n",
       "4            30  "
      ]
     },
     "execution_count": 27,
     "metadata": {},
     "output_type": "execute_result"
    }
   ],
   "source": [
    "ldata2clean[0].head()"
   ]
  },
  {
   "cell_type": "code",
   "execution_count": 28,
   "metadata": {},
   "outputs": [
    {
     "data": {
      "text/plain": [
       "1702660"
      ]
     },
     "execution_count": 28,
     "metadata": {},
     "output_type": "execute_result"
    }
   ],
   "source": [
    "dfdata1clean = pd.concat(ldata1clean)\n",
    "len(dfdata1clean)"
   ]
  },
  {
   "cell_type": "code",
   "execution_count": 29,
   "metadata": {},
   "outputs": [
    {
     "data": {
      "text/plain": [
       "1528304"
      ]
     },
     "execution_count": 29,
     "metadata": {},
     "output_type": "execute_result"
    }
   ],
   "source": [
    "dfdata2clean = pd.concat(ldata2clean)\n",
    "len(dfdata2clean)"
   ]
  },
  {
   "cell_type": "code",
   "execution_count": 30,
   "metadata": {},
   "outputs": [
    {
     "data": {
      "text/plain": [
       "88"
      ]
     },
     "execution_count": 30,
     "metadata": {},
     "output_type": "execute_result"
    }
   ],
   "source": [
    "joinedlist = ldata1clean + ldata2clean\n",
    "len(joinedlist)"
   ]
  },
  {
   "cell_type": "code",
   "execution_count": 31,
   "metadata": {},
   "outputs": [],
   "source": [
    "dfdataall = pd.concat(joinedlist)"
   ]
  },
  {
   "cell_type": "code",
   "execution_count": 32,
   "metadata": {},
   "outputs": [
    {
     "data": {
      "text/plain": [
       "3230964"
      ]
     },
     "execution_count": 32,
     "metadata": {},
     "output_type": "execute_result"
    }
   ],
   "source": [
    "len(dfdataall)"
   ]
  },
  {
   "cell_type": "code",
   "execution_count": 34,
   "metadata": {},
   "outputs": [],
   "source": [
    "# merged csv is too large for github - save csv outside of local repository\n",
    "# dfdataall.to_csv('Resources/JC_201509_202212_citibike_tripdata.csv')"
   ]
  },
  {
   "attachments": {},
   "cell_type": "markdown",
   "metadata": {},
   "source": [
    "Unneeded code but keep for future reference"
   ]
  },
  {
   "cell_type": "code",
   "execution_count": 33,
   "metadata": {},
   "outputs": [],
   "source": [
    "# reference: create YYYYMM list\n",
    "# not needed but cool loop: create YYYYMM list \n",
    "# lyyyymm  = []\n",
    "# for y in range (2015,2023):\n",
    "#     for m in range (1,13):\n",
    "#         if m <10:\n",
    "#             lyyyymm.append(f'{y}0{m}')\n",
    "#         else:\n",
    "#             lyyyymm.append(f'{y}{m}')\n",
    "\n",
    "# print(lyyyymm)\n",
    "# len(lyyyymm)\n"
   ]
  }
 ],
 "metadata": {
  "kernelspec": {
   "display_name": "base",
   "language": "python",
   "name": "python3"
  },
  "language_info": {
   "codemirror_mode": {
    "name": "ipython",
    "version": 3
   },
   "file_extension": ".py",
   "mimetype": "text/x-python",
   "name": "python",
   "nbconvert_exporter": "python",
   "pygments_lexer": "ipython3",
   "version": "3.9.13"
  },
  "orig_nbformat": 4,
  "vscode": {
   "interpreter": {
    "hash": "fb833273add3e7c60eb33c0608260b79a61e072ade6f02cc8d07b0a26eef8ab8"
   }
  }
 },
 "nbformat": 4,
 "nbformat_minor": 2
}
